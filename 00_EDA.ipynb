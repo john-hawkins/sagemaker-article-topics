{
 "cells": [
  {
   "cell_type": "markdown",
   "metadata": {},
   "source": [
    "# News Article EDA\n",
    "\n",
    "In this Notebook we open our dataset of categorised news articles and explore the distribution of topics. We will do some reshaping to permit effective machine learning.\n",
    "\n",
    "This Notebook was run inside Sagemaker Studio on the **Python 3 (Data Science)** Kernel."
   ]
  },
  {
   "cell_type": "code",
   "execution_count": 1,
   "metadata": {},
   "outputs": [],
   "source": [
    "import pandas as pd\n",
    "import numpy as np\n",
    "import sagemaker\n",
    "import boto3\n",
    "\n",
    "boto_session = boto3.Session()\n",
    "region = boto_session.region_name\n",
    "sgmk_session = sagemaker.Session()\n",
    "sgmk_role = sagemaker.get_execution_role()"
   ]
  },
  {
   "cell_type": "code",
   "execution_count": 2,
   "metadata": {},
   "outputs": [],
   "source": [
    "ctstories = \"s3://funnybones/news/topics/CTstories.csv\""
   ]
  },
  {
   "cell_type": "code",
   "execution_count": 4,
   "metadata": {},
   "outputs": [],
   "source": [
    "df1 = pd.read_csv(ctstories)"
   ]
  },
  {
   "cell_type": "code",
   "execution_count": 5,
   "metadata": {},
   "outputs": [
    {
     "data": {
      "text/plain": [
       "sport          176\n",
       "politics       124\n",
       "arts            98\n",
       "health          96\n",
       "lifestyle       90\n",
       "crime           73\n",
       "society         69\n",
       "ignore          46\n",
       "business        35\n",
       "realestate      30\n",
       "human           29\n",
       "accident        28\n",
       "environment     26\n",
       "education       23\n",
       "science         15\n",
       "labour          13\n",
       "military        12\n",
       "weather          5\n",
       "transport        4\n",
       "religion         1\n",
       "Name: category, dtype: int64"
      ]
     },
     "execution_count": 5,
     "metadata": {},
     "output_type": "execute_result"
    }
   ],
   "source": [
    "df1[\"category\"].value_counts()"
   ]
  },
  {
   "cell_type": "markdown",
   "metadata": {},
   "source": [
    "# Low observation categories\n",
    "\n",
    "Some of the original categories do not have sufficient observations for modelling: [religion, weather, military, labour, science, transport]\n",
    "\n",
    "For the purposese of this project we collapse these categories into others using the following logic:\n",
    "\n",
    "* religion -> society\n",
    "* weather -> lifestyle\n",
    "* military -> politics\n",
    "* labour -> politics\n",
    "* science -> education\n",
    "* transport -> politics\n",
    "\n",
    "In the process of labelling we identified 46 articles that could not be classified and should be ignored. These were predominantly Letters sections that contained mixed topic content.\n",
    "\n"
   ]
  },
  {
   "cell_type": "code",
   "execution_count": 6,
   "metadata": {},
   "outputs": [],
   "source": [
    "df1[\"category\"] = np.where( df1[\"category\"]==\"religion\", \"society\", df1[\"category\"])\n",
    "df1[\"category\"] = np.where( df1[\"category\"]==\"weather\", \"lifestyle\", df1[\"category\"])\n",
    "df1[\"category\"] = np.where( df1[\"category\"]==\"military\", \"politics\", df1[\"category\"])\n",
    "df1[\"category\"] = np.where( df1[\"category\"]==\"labour\", \"politics\", df1[\"category\"])\n",
    "df1[\"category\"] = np.where( df1[\"category\"]==\"transport\", \"politics\", df1[\"category\"])\n",
    "df1[\"category\"] = np.where( df1[\"category\"]==\"science\", \"education\", df1[\"category\"])"
   ]
  },
  {
   "cell_type": "code",
   "execution_count": 8,
   "metadata": {},
   "outputs": [],
   "source": [
    "df_trainer = df1[df1[\"category\"]!=\"ignore\"]"
   ]
  },
  {
   "cell_type": "code",
   "execution_count": 10,
   "metadata": {},
   "outputs": [],
   "source": [
    "df_trainer = df_trainer[ df_trainer[\"category\"].notnull() ]"
   ]
  },
  {
   "cell_type": "code",
   "execution_count": 11,
   "metadata": {},
   "outputs": [
    {
     "data": {
      "text/plain": [
       "947"
      ]
     },
     "execution_count": 11,
     "metadata": {},
     "output_type": "execute_result"
    }
   ],
   "source": [
    "len(df_trainer)"
   ]
  },
  {
   "cell_type": "code",
   "execution_count": 12,
   "metadata": {},
   "outputs": [
    {
     "data": {
      "text/plain": [
       "sport          176\n",
       "politics       153\n",
       "arts            98\n",
       "health          96\n",
       "lifestyle       95\n",
       "crime           73\n",
       "society         70\n",
       "education       38\n",
       "business        35\n",
       "realestate      30\n",
       "human           29\n",
       "accident        28\n",
       "environment     26\n",
       "Name: category, dtype: int64"
      ]
     },
     "execution_count": 12,
     "metadata": {},
     "output_type": "execute_result"
    }
   ],
   "source": [
    "df_trainer[\"category\"].value_counts()"
   ]
  },
  {
   "cell_type": "code",
   "execution_count": 12,
   "metadata": {},
   "outputs": [],
   "source": [
    "trainset = df_trainer.loc[:,['category','text']]"
   ]
  },
  {
   "cell_type": "code",
   "execution_count": 13,
   "metadata": {},
   "outputs": [],
   "source": [
    "trainset.to_csv(\"data/training.csv\", index=False, header=False)\n",
    "trainset.to_csv(\"data/training_with_header.csv\", index=False, header=True)"
   ]
  },
  {
   "cell_type": "code",
   "execution_count": 14,
   "metadata": {},
   "outputs": [],
   "source": [
    "bucket_name = \"funnybones\"\n",
    "bucket_prefix=\"topics/train\""
   ]
  },
  {
   "cell_type": "code",
   "execution_count": 15,
   "metadata": {},
   "outputs": [],
   "source": [
    "# Upload CSV files to S3 for SageMaker training\n",
    "train_uri = sgmk_session.upload_data(\n",
    "    path=\"data/training.csv\",\n",
    "    bucket=bucket_name,\n",
    "    key_prefix=bucket_prefix,\n",
    ")"
   ]
  },
  {
   "cell_type": "markdown",
   "metadata": {},
   "source": [
    "# Separate Test Data\n",
    "\n",
    "We grabbed the original data set (not from Canberra times) as an independent test set.\n"
   ]
  },
  {
   "cell_type": "code",
   "execution_count": 16,
   "metadata": {},
   "outputs": [],
   "source": [
    "stories = \"s3://funnybones/news/topics/stories.csv\"\n",
    "df2 = pd.read_csv(stories)"
   ]
  },
  {
   "cell_type": "code",
   "execution_count": 17,
   "metadata": {},
   "outputs": [
    {
     "data": {
      "text/plain": [
       "sport          32\n",
       "health          9\n",
       "environment     9\n",
       "business        8\n",
       "crime           6\n",
       "transport       6\n",
       "politics        2\n",
       "accident        2\n",
       "human           2\n",
       "arts            2\n",
       "lifestyle       2\n",
       "society         1\n",
       "weather         1\n",
       "military        1\n",
       "Name: category, dtype: int64"
      ]
     },
     "execution_count": 17,
     "metadata": {},
     "output_type": "execute_result"
    }
   ],
   "source": [
    "df2[\"category\"].value_counts()"
   ]
  },
  {
   "cell_type": "code",
   "execution_count": 18,
   "metadata": {},
   "outputs": [],
   "source": [
    "df2[\"category\"] = np.where( df2[\"category\"]==\"religion\", \"society\", df2[\"category\"])\n",
    "df2[\"category\"] = np.where( df2[\"category\"]==\"weather\", \"lifestyle\", df2[\"category\"])\n",
    "df2[\"category\"] = np.where( df2[\"category\"]==\"military\", \"politics\", df2[\"category\"])\n",
    "df2[\"category\"] = np.where( df2[\"category\"]==\"labour\", \"politics\", df2[\"category\"])\n",
    "df2[\"category\"] = np.where( df2[\"category\"]==\"transport\", \"politics\", df2[\"category\"])\n",
    "df2[\"category\"] = np.where( df2[\"category\"]==\"science\", \"education\", df2[\"category\"])"
   ]
  },
  {
   "cell_type": "code",
   "execution_count": 19,
   "metadata": {},
   "outputs": [
    {
     "data": {
      "text/plain": [
       "sport          32\n",
       "politics        9\n",
       "health          9\n",
       "environment     9\n",
       "business        8\n",
       "crime           6\n",
       "lifestyle       3\n",
       "accident        2\n",
       "human           2\n",
       "arts            2\n",
       "society         1\n",
       "Name: category, dtype: int64"
      ]
     },
     "execution_count": 19,
     "metadata": {},
     "output_type": "execute_result"
    }
   ],
   "source": [
    "df2[\"category\"].value_counts()"
   ]
  },
  {
   "cell_type": "code",
   "execution_count": 20,
   "metadata": {},
   "outputs": [],
   "source": [
    "test_data = df2[ df2[\"category\"].notnull() ]"
   ]
  },
  {
   "cell_type": "code",
   "execution_count": 21,
   "metadata": {},
   "outputs": [],
   "source": [
    "testset = test_data.loc[:,['category','text']]"
   ]
  },
  {
   "cell_type": "code",
   "execution_count": 22,
   "metadata": {},
   "outputs": [],
   "source": [
    "testset.to_csv(\"data/test.csv\", index=False, header=False)\n",
    "testset.to_csv(\"data/test_with_header.csv\", index=False, header=True)\n"
   ]
  },
  {
   "cell_type": "code",
   "execution_count": 23,
   "metadata": {},
   "outputs": [],
   "source": [
    "# Upload CSV files to S3 for SageMaker training\n",
    "test_uri = sgmk_session.upload_data(\n",
    "    path=\"data/test.csv\",\n",
    "    bucket=bucket_name,\n",
    "    key_prefix=bucket_prefix,\n",
    ")"
   ]
  },
  {
   "cell_type": "code",
   "execution_count": null,
   "metadata": {},
   "outputs": [],
   "source": []
  }
 ],
 "metadata": {
  "instance_type": "ml.t3.medium",
  "kernelspec": {
   "display_name": "Python 3 (Data Science)",
   "language": "python",
   "name": "python3__SAGEMAKER_INTERNAL__arn:aws:sagemaker:ap-southeast-2:452832661640:image/datascience-1.0"
  },
  "language_info": {
   "codemirror_mode": {
    "name": "ipython",
    "version": 3
   },
   "file_extension": ".py",
   "mimetype": "text/x-python",
   "name": "python",
   "nbconvert_exporter": "python",
   "pygments_lexer": "ipython3",
   "version": "3.7.10"
  }
 },
 "nbformat": 4,
 "nbformat_minor": 4
}
