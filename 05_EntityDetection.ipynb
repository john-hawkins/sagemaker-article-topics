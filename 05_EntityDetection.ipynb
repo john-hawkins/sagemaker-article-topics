{
 "cells": [
  {
   "cell_type": "markdown",
   "metadata": {},
   "source": [
    "# Entity Detection\n",
    "\n",
    "In this example Notebook we will use Amazon Comprehend to do entity detection on our dataset of news articles. The idea here is to discover the subjects discussed in each article and use them as links to articles that discuss the same subjects.\n",
    "\n",
    "We also run an experiment in which the detected entities are used to generate an alternative text representation and then run topic modelling. In other words can be discover natural topics that are grouping of Named Entities.\n",
    "\n",
    "This Notebook was run in Sagemaker Studio with The **Python 3 (Data Science)** Kernel.\n",
    "\n",
    "There is some IAM configuration that needs to be done later in the notebook. This blog contains some useful general guidelines on using Comprehend."
   ]
  },
  {
   "cell_type": "code",
   "execution_count": 166,
   "metadata": {},
   "outputs": [],
   "source": [
    "import pandas as pd\n",
    "import numpy as np\n",
    "import sagemaker\n",
    "import boto3\n",
    "\n",
    "boto_session = boto3.Session()\n",
    "region = boto_session.region_name\n",
    "comprehend = boto3.client('comprehend', region_name=region)\n",
    "sgmk_session = sagemaker.Session()\n",
    "sgmk_role = sagemaker.get_execution_role()"
   ]
  },
  {
   "cell_type": "code",
   "execution_count": 167,
   "metadata": {},
   "outputs": [],
   "source": [
    "ctstories = \"s3://funnybones/rural/topics/CTstories.csv\""
   ]
  },
  {
   "cell_type": "code",
   "execution_count": 168,
   "metadata": {},
   "outputs": [],
   "source": [
    "df1 = pd.read_csv(ctstories)"
   ]
  },
  {
   "cell_type": "code",
   "execution_count": 169,
   "metadata": {},
   "outputs": [],
   "source": [
    "text_only = df1.loc[:,['text']]"
   ]
  },
  {
   "cell_type": "code",
   "execution_count": 170,
   "metadata": {},
   "outputs": [],
   "source": [
    "text_only.to_csv(\"data/text_only.csv\", index=False, header=False)"
   ]
  },
  {
   "cell_type": "code",
   "execution_count": 171,
   "metadata": {},
   "outputs": [],
   "source": [
    "bucket_name = \"funnybones\"\n",
    "bucket_prefix=\"rural/entities/text\""
   ]
  },
  {
   "cell_type": "code",
   "execution_count": 10,
   "metadata": {},
   "outputs": [],
   "source": [
    "# Upload CSV files to S3 for SageMaker training\n",
    "train_uri = sgmk_session.upload_data(\n",
    "    path=\"data/text_only.csv\",\n",
    "    bucket=bucket_name,\n",
    "    key_prefix=bucket_prefix,\n",
    ")"
   ]
  },
  {
   "cell_type": "code",
   "execution_count": 11,
   "metadata": {},
   "outputs": [
    {
     "data": {
      "text/plain": [
       "'s3://funnybones/rural/entities/text/text_only.csv'"
      ]
     },
     "execution_count": 11,
     "metadata": {},
     "output_type": "execute_result"
    }
   ],
   "source": [
    "train_uri"
   ]
  },
  {
   "cell_type": "code",
   "execution_count": 12,
   "metadata": {},
   "outputs": [],
   "source": [
    "output_uri=\"s3://funnybones/rural/entities/model/\""
   ]
  },
  {
   "cell_type": "markdown",
   "metadata": {},
   "source": [
    "### Data Access\n",
    "\n",
    "This next part is critical to using Comprehend to build models inside Sagemaker Studio.\n",
    "\n",
    "We create a Role that will grant access to the S3 buckets where the data will be.\n",
    "\n",
    "We then need grant our Sagemaker Execution Role the ability to pass this Role to the Comprehend Service.\n",
    "\n",
    "I added this as an inline policy to my Sagemaker Execution Role:\n",
    "\n",
    "```\n",
    "{\n",
    "    \"Version\": \"2012-10-17\",\n",
    "    \"Statement\": {\n",
    "        \"Effect\": \"Allow\",\n",
    "        \"Action\": \"iam:PassRole\",\n",
    "        \"Resource\": \"arn:aws:iam::320389841409:role/ComprehendS3Access\"\n",
    "    }\n",
    "}\n",
    "```"
   ]
  },
  {
   "cell_type": "code",
   "execution_count": 14,
   "metadata": {},
   "outputs": [],
   "source": [
    "comprehend_role = \"arn:aws:iam::320389841409:role/ComprehendS3Access\""
   ]
  },
  {
   "cell_type": "markdown",
   "metadata": {},
   "source": [
    "We can detect entities for a single line"
   ]
  },
  {
   "cell_type": "code",
   "execution_count": 78,
   "metadata": {},
   "outputs": [],
   "source": [
    "sample_text = text_only.loc[0]['text']\n",
    "\n",
    "if len(sample_text) > 5000:\n",
    "    sample_text = sample_text[0:5000]"
   ]
  },
  {
   "cell_type": "code",
   "execution_count": 79,
   "metadata": {},
   "outputs": [],
   "source": [
    "\n",
    "# Entities\n",
    "entities = comprehend.detect_entities(Text=sample_text, LanguageCode='en')"
   ]
  },
  {
   "cell_type": "code",
   "execution_count": 175,
   "metadata": {},
   "outputs": [],
   "source": [
    "\n",
    "def flatten(listy):\n",
    "    return [item for sublist in listy for item in sublist]\n",
    "\n",
    "def split(x):\n",
    "    return x.split()\n",
    "\n",
    "def get_word_list(input_list):\n",
    "    return flatten( list(map(split,input_list)) )\n",
    "\n",
    "def process_entities_to_list(entities):\n",
    "    rez = []\n",
    "    no_spaces = []\n",
    "    with_spaces = []\n",
    "    for ent in entities: \n",
    "        if ent['Type'] in ['PERSON', 'TITLE', 'COMMERCIAL_ITEM', 'EVENT', 'LOCATION', 'ORGANIZATION']:  \n",
    "            if \" \" in ent['Text']:\n",
    "                with_spaces.append(ent['Text'])\n",
    "            else:\n",
    "                no_spaces.append(ent['Text'])\n",
    "    total_list_no_spaces = list(set(no_spaces))\n",
    "    total_list_with_spaces = list(set(with_spaces))\n",
    "    broken_list = get_word_list(total_list_with_spaces)\n",
    "    for elem in total_list_no_spaces:\n",
    "        if elem not in broken_list:\n",
    "            rez.append(elem)\n",
    "    for elem in total_list_with_spaces:\n",
    "        rez.append(elem)\n",
    "    return rez\n",
    "\n"
   ]
  },
  {
   "cell_type": "code",
   "execution_count": null,
   "metadata": {},
   "outputs": [],
   "source": [
    "ents = process_entities_to_list(entities['Entities'])"
   ]
  },
  {
   "cell_type": "code",
   "execution_count": 82,
   "metadata": {},
   "outputs": [
    {
     "data": {
      "text/plain": [
       "['Loki',\n",
       " 'London',\n",
       " 'Kenyan',\n",
       " 'Versace',\n",
       " 'Gucci',\n",
       " 'Australian',\n",
       " 'Paris',\n",
       " 'Australia',\n",
       " 'Akiima',\n",
       " 'Vogue',\n",
       " 'Prada',\n",
       " 'South Sudan',\n",
       " 'World Cup',\n",
       " 'Carla Zampatti',\n",
       " 'Multicultural Hub Canberra',\n",
       " 'IRT Kangara Waters Residential Care',\n",
       " \"Multicultural Women's Service\",\n",
       " 'Saint Laurent',\n",
       " 'World Refugee Week',\n",
       " 'Refugee Week',\n",
       " \"Hub's Multicultural Employment Service\",\n",
       " 'New York']"
      ]
     },
     "execution_count": 82,
     "metadata": {},
     "output_type": "execute_result"
    }
   ],
   "source": [
    "ents"
   ]
  },
  {
   "cell_type": "markdown",
   "metadata": {},
   "source": [
    "## Batch Detection Job\n"
   ]
  },
  {
   "cell_type": "code",
   "execution_count": null,
   "metadata": {},
   "outputs": [],
   "source": []
  },
  {
   "cell_type": "code",
   "execution_count": null,
   "metadata": {},
   "outputs": [],
   "source": []
  },
  {
   "cell_type": "code",
   "execution_count": null,
   "metadata": {},
   "outputs": [],
   "source": []
  },
  {
   "cell_type": "markdown",
   "metadata": {},
   "source": [
    "\n",
    "### StartEntitiesDetectionJob"
   ]
  },
  {
   "cell_type": "code",
   "execution_count": 85,
   "metadata": {},
   "outputs": [],
   "source": [
    "response = comprehend.start_entities_detection_job(\n",
    "    InputDataConfig={\n",
    "        'S3Uri': train_uri,\n",
    "        'InputFormat': 'ONE_DOC_PER_LINE'\n",
    "    },\n",
    "    OutputDataConfig={\n",
    "        'S3Uri': output_uri\n",
    "    },\n",
    "    LanguageCode=\"en\",\n",
    "    DataAccessRoleArn=comprehend_role,\n",
    "    JobName='RuralPress_Entity_Detection'\n",
    ")"
   ]
  },
  {
   "cell_type": "code",
   "execution_count": 86,
   "metadata": {},
   "outputs": [
    {
     "name": "stdout",
     "output_type": "stream",
     "text": [
      "8bfb71120509a13d6e999cf2b642a01b\n"
     ]
    }
   ],
   "source": [
    "job_id = response['JobId']\n",
    "print(job_id)"
   ]
  },
  {
   "cell_type": "code",
   "execution_count": 92,
   "metadata": {},
   "outputs": [],
   "source": [
    "job_id = \"8bfb71120509a13d6e999cf2b642a01b\""
   ]
  },
  {
   "cell_type": "code",
   "execution_count": 93,
   "metadata": {},
   "outputs": [],
   "source": [
    "describe_result = comprehend.describe_entities_detection_job(JobId=job_id)"
   ]
  },
  {
   "cell_type": "code",
   "execution_count": 94,
   "metadata": {},
   "outputs": [
    {
     "name": "stdout",
     "output_type": "stream",
     "text": [
      "Job Status: COMPLETED\n"
     ]
    }
   ],
   "source": [
    "job_status = describe_result['EntitiesDetectionJobProperties']['JobStatus']\n",
    "print(f'Job Status: {job_status}')\n",
    "if job_status == 'FAILED':\n",
    "    print(f'Reason: {describe_result[\"EntitiesDetectionJobProperties\"][\"Message\"]}')"
   ]
  },
  {
   "cell_type": "code",
   "execution_count": 95,
   "metadata": {},
   "outputs": [
    {
     "data": {
      "text/plain": [
       "'s3://funnybones/rural/entities/model/320389841409-NER-8bfb71120509a13d6e999cf2b642a01b/output/output.tar.gz'"
      ]
     },
     "execution_count": 95,
     "metadata": {},
     "output_type": "execute_result"
    }
   ],
   "source": [
    "results_S3Url = comprehend.describe_entities_detection_job(JobId=job_id)['EntitiesDetectionJobProperties']['OutputDataConfig']['S3Uri']\n",
    "\n",
    "results_S3Url"
   ]
  },
  {
   "cell_type": "code",
   "execution_count": 96,
   "metadata": {},
   "outputs": [
    {
     "data": {
      "text/plain": [
       "'rural/entities/model/320389841409-NER-8bfb71120509a13d6e999cf2b642a01b/output/output.tar.gz'"
      ]
     },
     "execution_count": 96,
     "metadata": {},
     "output_type": "execute_result"
    }
   ],
   "source": [
    "s3_name = 's3://' + bucket_name + '/'\n",
    "results_aws_filename = results_S3Url.replace(s3_name, '')\n",
    "results_aws_filename"
   ]
  },
  {
   "cell_type": "code",
   "execution_count": 97,
   "metadata": {},
   "outputs": [],
   "source": [
    "# Local file name\n",
    "local_results_filename = 'results/entities.tar.gz'\n",
    "# Download the results\n",
    "s3 = boto3.client('s3')\n",
    "s3.download_file(bucket_name,\n",
    "                 results_aws_filename, \n",
    "                 local_results_filename)"
   ]
  },
  {
   "cell_type": "code",
   "execution_count": 99,
   "metadata": {},
   "outputs": [],
   "source": [
    "!tar xzf results/entities.tar.gz -C results"
   ]
  },
  {
   "cell_type": "code",
   "execution_count": 100,
   "metadata": {},
   "outputs": [],
   "source": [
    "import json"
   ]
  },
  {
   "cell_type": "code",
   "execution_count": 249,
   "metadata": {},
   "outputs": [],
   "source": [
    "entities=[]\n",
    "line_numbers=[]\n",
    "with open('results/output') as f:\n",
    "    data=f.readlines()\n",
    "    for d in data:\n",
    "        ner_data = json.loads(d)\n",
    "        entities.append( process_entities_to_list( ner_data['Entities']) )\n",
    "        line_numbers.append(ner_data['Line'])\n"
   ]
  },
  {
   "cell_type": "code",
   "execution_count": 250,
   "metadata": {},
   "outputs": [
    {
     "data": {
      "text/plain": [
       "1009"
      ]
     },
     "execution_count": 250,
     "metadata": {},
     "output_type": "execute_result"
    }
   ],
   "source": [
    "len(entities)\n"
   ]
  },
  {
   "cell_type": "code",
   "execution_count": 252,
   "metadata": {},
   "outputs": [
    {
     "data": {
      "text/plain": [
       "18"
      ]
     },
     "execution_count": 252,
     "metadata": {},
     "output_type": "execute_result"
    }
   ],
   "source": [
    "line_numbers[15]"
   ]
  },
  {
   "cell_type": "code",
   "execution_count": 262,
   "metadata": {},
   "outputs": [
    {
     "data": {
      "text/plain": [
       "['Lying',\n",
       " 'Cow',\n",
       " 'John Malouff',\n",
       " 'School of Psychology,',\n",
       " 'University of New England',\n",
       " \"Serena Williams'\",\n",
       " 'Mitch McConnell',\n",
       " 'US Senate',\n",
       " 'Donald Trump']"
      ]
     },
     "execution_count": 262,
     "metadata": {},
     "output_type": "execute_result"
    }
   ],
   "source": [
    "entities[18]"
   ]
  },
  {
   "cell_type": "code",
   "execution_count": 263,
   "metadata": {},
   "outputs": [
    {
     "data": {
      "text/plain": [
       "' When I teach students how to help eliminate some behaviour, like nail biting, I preach that clients need to develop an alternative behaviour that serves the same functions as the one they want to eliminate. For instance, if a bloke wants to stop ruinous drinking, he may need to learn new methods of coping with the stresses of work.  These other methods might include meditating, walking in nature, talking with someone about his emotions, and so on. Alternatives are good also for expanding our ways of thinking.  I realised that years back when I was encouraging my students to go all out in their studies - to \"become a stud.\"  I looked at the students, who were almost all females, and paused while I thought of how to include women. I said \"or become a...\"  A clever female student spoke up and added an alternative: A brood mare. I often hear the term WAGs for women and girlfriends of famous male athletes.  I propose \"HABs\" for husbands and boyfriends of famous female athletes. Serena Williams\\' husband fits the bill. I thought for a while that I had a new alternative to drag queens, but then I learned that the expression drag kings has had a long existence.  Put the expressions together and you have drag royalty.  Insults make up a domain in need of alternatives.  Donald Trump recently called US Senate Minority leader, Mitch McConnell, a dumb son of a b----. Here\\'s an alternative insult: unintelligent progeny of a male dog.  I know - my alternative seems awkward. You don\\'t want to sound like Borat. But give the new insult a few decades of use, and I reckon you will come to like it. Closer to home a female government minister used the term \"lying cow\" to refer to a former staffer who had complained about being sexually assaulted in Parliament.  Lying Cow would be a memorable name for a rock and roll group, but the term needs an alternative as an insult. How about calling someone a \"prevaricating bovine\"? Or, if we want to go for alliteration, a \"prevaricating pangolin.\" I swear that I am not trying to take all the fun out of insulting others.  I will conclude with the alternative I endorse most wholeheartedly.  We often hear politicians accused of wrongdoing say that they categorically deny the accusations.  I want to hear, just once, an accused politician say that he or she categorically admits the wrongdoing. John Malouff is an Associate Professor at the School of Psychology, University of New England.'"
      ]
     },
     "execution_count": 263,
     "metadata": {},
     "output_type": "execute_result"
    }
   ],
   "source": [
    "text_only.loc[line_numbers[18]].text"
   ]
  },
  {
   "cell_type": "code",
   "execution_count": 182,
   "metadata": {},
   "outputs": [],
   "source": [
    "def replace_all_spaces(input):\n",
    "    return [x.replace(\" \",\"_\") for x in input]\n",
    "    \n",
    "newents = list(map(replace_all_spaces,entities))"
   ]
  },
  {
   "cell_type": "code",
   "execution_count": 183,
   "metadata": {},
   "outputs": [
    {
     "data": {
      "text/plain": [
       "['TWA',\n",
       " 'P&O',\n",
       " 'Asia',\n",
       " 'Australasia',\n",
       " 'Pakistan',\n",
       " 'Rizzoli',\n",
       " 'Heathrow',\n",
       " 'Wolff',\n",
       " 'Europe',\n",
       " 'Rhianna',\n",
       " 'America',\n",
       " 'London',\n",
       " 'Venice',\n",
       " 'Belfast',\n",
       " 'Harland',\n",
       " 'Jason_Gay',\n",
       " 'Justin_Bieber',\n",
       " 'Miley_Cyrus',\n",
       " \"Oxford_University's_Bodleian_Library\",\n",
       " 'Jodi_Peckman',\n",
       " 'Come_Fly_with_Me:_Flying_in_Style',\n",
       " 'Bodleian_Library',\n",
       " 'Dolly_Parton',\n",
       " 'Come_Fly_with_Me',\n",
       " 'Sharon_Stone',\n",
       " 'Second_World_War',\n",
       " 'get_you_up_there',\n",
       " 'Thor_Johnson',\n",
       " \"John_Sayers'\",\n",
       " 'Lady_Gaga',\n",
       " 'Louis_Vuitton',\n",
       " 'Frank_Sinatra',\n",
       " 'Sydney_airport',\n",
       " 'Jane_Fonda',\n",
       " 'Billy_May',\n",
       " 'Marilyn_Monroe',\n",
       " 'John_Sayers',\n",
       " 'Middle_East',\n",
       " 'Joan_Collins',\n",
       " 'James_Bond',\n",
       " 'Future_Covid',\n",
       " \"'ll_just_glide\",\n",
       " 'Secrets_of_the_Great_Ocean_Liners',\n",
       " 'Diamonds_are_Forever',\n",
       " 'Mohammed_Ali',\n",
       " 'SS_Canberra',\n",
       " 'Rolling_Stone',\n",
       " 'Diana_Ross',\n",
       " 'Dean_Martin',\n",
       " 'Los_Angeles',\n",
       " 'Falklands_war',\n",
       " 'Pan_Am']"
      ]
     },
     "execution_count": 183,
     "metadata": {},
     "output_type": "execute_result"
    }
   ],
   "source": [
    "newents[6]"
   ]
  },
  {
   "cell_type": "code",
   "execution_count": 184,
   "metadata": {},
   "outputs": [],
   "source": [
    "def to_text(input):\n",
    "    return \" \".join(input)\n",
    "    \n",
    "textents = list(map(to_text,newents))"
   ]
  },
  {
   "cell_type": "code",
   "execution_count": 185,
   "metadata": {},
   "outputs": [
    {
     "data": {
      "text/plain": [
       "\"TWA P&O Asia Australasia Pakistan Rizzoli Heathrow Wolff Europe Rhianna America London Venice Belfast Harland Jason_Gay Justin_Bieber Miley_Cyrus Oxford_University's_Bodleian_Library Jodi_Peckman Come_Fly_with_Me:_Flying_in_Style Bodleian_Library Dolly_Parton Come_Fly_with_Me Sharon_Stone Second_World_War get_you_up_there Thor_Johnson John_Sayers' Lady_Gaga Louis_Vuitton Frank_Sinatra Sydney_airport Jane_Fonda Billy_May Marilyn_Monroe John_Sayers Middle_East Joan_Collins James_Bond Future_Covid 'll_just_glide Secrets_of_the_Great_Ocean_Liners Diamonds_are_Forever Mohammed_Ali SS_Canberra Rolling_Stone Diana_Ross Dean_Martin Los_Angeles Falklands_war Pan_Am\""
      ]
     },
     "execution_count": 185,
     "metadata": {},
     "output_type": "execute_result"
    }
   ],
   "source": [
    "textents[6]"
   ]
  },
  {
   "cell_type": "code",
   "execution_count": 186,
   "metadata": {},
   "outputs": [],
   "source": [
    "import pandas as pd"
   ]
  },
  {
   "cell_type": "code",
   "execution_count": 187,
   "metadata": {},
   "outputs": [],
   "source": [
    "df = pd.DataFrame({\"text\":textents})"
   ]
  },
  {
   "cell_type": "code",
   "execution_count": 188,
   "metadata": {},
   "outputs": [
    {
     "data": {
      "text/html": [
       "<div>\n",
       "<style scoped>\n",
       "    .dataframe tbody tr th:only-of-type {\n",
       "        vertical-align: middle;\n",
       "    }\n",
       "\n",
       "    .dataframe tbody tr th {\n",
       "        vertical-align: top;\n",
       "    }\n",
       "\n",
       "    .dataframe thead th {\n",
       "        text-align: right;\n",
       "    }\n",
       "</style>\n",
       "<table border=\"1\" class=\"dataframe\">\n",
       "  <thead>\n",
       "    <tr style=\"text-align: right;\">\n",
       "      <th></th>\n",
       "      <th>text</th>\n",
       "    </tr>\n",
       "  </thead>\n",
       "  <tbody>\n",
       "    <tr>\n",
       "      <th>0</th>\n",
       "      <td>The Kiwi NRL Olympics Australia Renegade Tokyo...</td>\n",
       "    </tr>\n",
       "    <tr>\n",
       "      <th>1</th>\n",
       "      <td>Loki London Versace Gucci Paris Australia Akii...</td>\n",
       "    </tr>\n",
       "    <tr>\n",
       "      <th>2</th>\n",
       "      <td>Labor Minerals_Council_of_Australia Scott_Morr...</td>\n",
       "    </tr>\n",
       "    <tr>\n",
       "      <th>3</th>\n",
       "      <td>WBL WNBA Canberra Caps WNBL Bankstown French_l...</td>\n",
       "    </tr>\n",
       "    <tr>\n",
       "      <th>4</th>\n",
       "      <td>Tharni Nades Priya Kopika Australia Tharnicaa ...</td>\n",
       "    </tr>\n",
       "  </tbody>\n",
       "</table>\n",
       "</div>"
      ],
      "text/plain": [
       "                                                text\n",
       "0  The Kiwi NRL Olympics Australia Renegade Tokyo...\n",
       "1  Loki London Versace Gucci Paris Australia Akii...\n",
       "2  Labor Minerals_Council_of_Australia Scott_Morr...\n",
       "3  WBL WNBA Canberra Caps WNBL Bankstown French_l...\n",
       "4  Tharni Nades Priya Kopika Australia Tharnicaa ..."
      ]
     },
     "execution_count": 188,
     "metadata": {},
     "output_type": "execute_result"
    }
   ],
   "source": [
    "df.head()"
   ]
  },
  {
   "cell_type": "code",
   "execution_count": 189,
   "metadata": {},
   "outputs": [],
   "source": [
    "df.to_csv(\"data/entities_text_only.csv\", index=False, header=False)"
   ]
  },
  {
   "cell_type": "code",
   "execution_count": 190,
   "metadata": {},
   "outputs": [],
   "source": [
    "bucket_name = \"funnybones\"\n",
    "bucket_prefix=\"rural/topics/entities\""
   ]
  },
  {
   "cell_type": "code",
   "execution_count": 191,
   "metadata": {},
   "outputs": [],
   "source": [
    "# Upload CSV files to S3 for SageMaker training\n",
    "train_uri = sgmk_session.upload_data(\n",
    "    path=\"data/entities_text_only.csv\",\n",
    "    bucket=bucket_name,\n",
    "    key_prefix=bucket_prefix,\n",
    ")"
   ]
  },
  {
   "cell_type": "code",
   "execution_count": 192,
   "metadata": {},
   "outputs": [
    {
     "name": "stdout",
     "output_type": "stream",
     "text": [
      "\"The Kiwi NRL Olympics Australia Renegade Tokyo TKO Victor_Oganov Olympic_Games IBF_Australasian Jason_Whateley Lucas_Browne Paul_Gallen Issac_Hardman Emmanuel_Carlos ANBF_Australian GLANCE_Termination_Day Sam_Goodman Justis_Huni Andrei_Mikhailovich Jeff_Fenech International_Convention_Centre_Sydney Sydney's_International_Convention_Centre Nort_Beauchamp Eddie_Hearn ANBF_Australian_heavyweight WBO_Oriental Dean_Lonergan Grahame_\"\"\"\"Spike\"\"\"\"_Cheney Mark_Hunt Jai_Opetaia Alex_Hanan\"\n",
      "Loki London Versace Gucci Paris Australia Akiima Vogue Prada South_Sudan World_Cup Carla_Zampatti Multicultural_Hub_Canberra IRT_Kangara_Waters_Residential_Care Multicultural_Women's_Service Saint_Laurent World_Refugee_Week Refugee_Week Hub's_Multicultural_Employment_Service New_York Multicultural_Hub\n",
      "Labor Minerals_Council_of_Australia Scott_Morrison Energy_Minister Prime_Minister Angus_Taylor Chris_Bowen Federal_Parliament\n",
      "WBL WNBA Canberra Caps WNBL Bankstown French_league Marianna_Tolo Paul_Goriss U19_FIBA_World_Championships Mikaela_Ruef Sydney_Uni_Flames Kelly_Wilson Kelsey_Griffin Tahlia_Tupaea NSW_Waratah_League UC_Capitals\n",
      "Tharni Nades Priya Kopika Australia Tharnicaa Australians Andrews Hawke Morrison Home_to_Bilo Biloela_TAFE women's_march to_Bilo\n",
      "Ginninderry Canberra Safety_Commissioner Capital_Airport_Group WorkSafe_ACT Master_Builders_ACT Suburban_Land_Agency Michael_Hopkins Master_Builder Operation_Safe_Prospect Master_Builders Health_and Denman_Prospect Jacqueline_Agius\n",
      "TWA P&O Asia Australasia Pakistan Rizzoli Heathrow Wolff Europe Rhianna America London Venice Belfast Harland Jason_Gay Justin_Bieber Miley_Cyrus Oxford_University's_Bodleian_Library Jodi_Peckman Come_Fly_with_Me:_Flying_in_Style Bodleian_Library Dolly_Parton Come_Fly_with_Me Sharon_Stone Second_World_War get_you_up_there Thor_Johnson John_Sayers' Lady_Gaga Louis_Vuitton Frank_Sinatra Sydney_airport Jane_Fonda Billy_May Marilyn_Monroe John_Sayers Middle_East Joan_Collins James_Bond Future_Covid 'll_just_glide Secrets_of_the_Great_Ocean_Liners Diamonds_are_Forever Mohammed_Ali SS_Canberra Rolling_Stone Diana_Ross Dean_Martin Los_Angeles Falklands_war Pan_Am\n",
      "@wakeupsitt @dion_georgopoulos @canberratimes @elesakurtz @karleenminneyphotographer @keegancarrollphoto Keegan_Carroll The_Canberra_Times Karleen_Minney @Sitthixay_Ditthavong Elesa_Kurtz Dion_Georgopoulos\n",
      "Oxford Aylward Melanesia Pacific Shores Siberia US England WWI America president Poland Spain Egypt Marilyn_Strathern Theodore_Roosevelt Solomon_Islands New_Mexico Frances_Larson British_East_Africa Santa_Clara_Pueblo Barbara_Freire-Marreco Beatrice_Blackwood Both_Sides_of_the_Buka_Passage Mary_Douglas Great_War Margaret_Mead Pitt_Rivers_Museum Winifred_Blackman Maria_Czaplicka Henry_Hall Lucy_Mair Phyllis_Kaberry Katherine_Routledge\n",
      "Australia Education_Directorate David_Gonski Karen_Macpherson Margaret_Hendry_School Jeremy_Hanson Canberra_Liberals ACT_Education Canberra_Liberals'\n"
     ]
    }
   ],
   "source": [
    "!head data/entities_text_only.csv"
   ]
  },
  {
   "cell_type": "code",
   "execution_count": 193,
   "metadata": {},
   "outputs": [
    {
     "data": {
      "text/plain": [
       "'s3://funnybones/rural/topics/entities/entities_text_only.csv'"
      ]
     },
     "execution_count": 193,
     "metadata": {},
     "output_type": "execute_result"
    }
   ],
   "source": [
    "train_uri\n"
   ]
  },
  {
   "cell_type": "code",
   "execution_count": 194,
   "metadata": {},
   "outputs": [],
   "source": [
    "output_uri=\"s3://funnybones/rural/entities/topics/model/\""
   ]
  },
  {
   "cell_type": "code",
   "execution_count": 195,
   "metadata": {},
   "outputs": [],
   "source": [
    "comprehend_role = \"arn:aws:iam::320389841409:role/ComprehendS3Access\""
   ]
  },
  {
   "cell_type": "code",
   "execution_count": 196,
   "metadata": {},
   "outputs": [],
   "source": [
    "response = comprehend.start_topics_detection_job(\n",
    "    InputDataConfig={\n",
    "        'S3Uri': train_uri,\n",
    "        'InputFormat': 'ONE_DOC_PER_LINE'\n",
    "    },\n",
    "    OutputDataConfig={\n",
    "        'S3Uri': output_uri\n",
    "    },\n",
    "    DataAccessRoleArn=comprehend_role,\n",
    "    JobName='RuralPress_Entity_Derived_Topics',\n",
    "    NumberOfTopics=50\n",
    ")"
   ]
  },
  {
   "cell_type": "code",
   "execution_count": 197,
   "metadata": {},
   "outputs": [
    {
     "name": "stdout",
     "output_type": "stream",
     "text": [
      "499b0daf240174b54213ce24ce876342\n"
     ]
    }
   ],
   "source": [
    "job_id = response['JobId']\n",
    "print(job_id)"
   ]
  },
  {
   "cell_type": "code",
   "execution_count": 202,
   "metadata": {},
   "outputs": [],
   "source": [
    "job_id = \"499b0daf240174b54213ce24ce876342\""
   ]
  },
  {
   "cell_type": "code",
   "execution_count": 205,
   "metadata": {},
   "outputs": [],
   "source": [
    "describe_result = comprehend.describe_topics_detection_job(JobId=job_id)"
   ]
  },
  {
   "cell_type": "code",
   "execution_count": 206,
   "metadata": {},
   "outputs": [
    {
     "name": "stdout",
     "output_type": "stream",
     "text": [
      "Job Status: COMPLETED\n"
     ]
    }
   ],
   "source": [
    "job_status = describe_result['TopicsDetectionJobProperties']['JobStatus']\n",
    "print(f'Job Status: {job_status}')\n",
    "if job_status == 'FAILED':\n",
    "    print(f'Reason: {describe_result[\"TopicsDetectionJobProperties\"][\"Message\"]}')"
   ]
  },
  {
   "cell_type": "code",
   "execution_count": 207,
   "metadata": {},
   "outputs": [
    {
     "data": {
      "text/plain": [
       "'s3://funnybones/rural/entities/topics/model/320389841409-TOPICS-499b0daf240174b54213ce24ce876342/output/output.tar.gz'"
      ]
     },
     "execution_count": 207,
     "metadata": {},
     "output_type": "execute_result"
    }
   ],
   "source": [
    "results_S3Url = comprehend.describe_topics_detection_job(JobId=job_id)['TopicsDetectionJobProperties']['OutputDataConfig']['S3Uri']\n",
    "\n",
    "results_S3Url"
   ]
  },
  {
   "cell_type": "code",
   "execution_count": 208,
   "metadata": {},
   "outputs": [
    {
     "data": {
      "text/plain": [
       "'rural/entities/topics/model/320389841409-TOPICS-499b0daf240174b54213ce24ce876342/output/output.tar.gz'"
      ]
     },
     "execution_count": 208,
     "metadata": {},
     "output_type": "execute_result"
    }
   ],
   "source": [
    "s3_name = 's3://' + bucket_name + '/'\n",
    "results_aws_filename = results_S3Url.replace(s3_name, '')\n",
    "results_aws_filename"
   ]
  },
  {
   "cell_type": "code",
   "execution_count": 209,
   "metadata": {},
   "outputs": [],
   "source": [
    "# Local file name\n",
    "local_results_filename = 'results/entities_topics.tar.gz'\n",
    "# Download the results\n",
    "s3 = boto3.client('s3')\n",
    "s3.download_file(bucket_name,\n",
    "                 results_aws_filename, \n",
    "                 local_results_filename)"
   ]
  },
  {
   "cell_type": "code",
   "execution_count": 211,
   "metadata": {},
   "outputs": [],
   "source": [
    "!tar xzf results/entities_topics.tar.gz -C results/entities/"
   ]
  },
  {
   "cell_type": "code",
   "execution_count": 214,
   "metadata": {},
   "outputs": [
    {
     "name": "stdout",
     "output_type": "stream",
     "text": [
      "total 60\n",
      "drwxr-xr-x 2 root root  6144 Jul 14 06:06 .\n",
      "drwxr-xr-x 4 root root  6144 Jul 14 06:05 ..\n",
      "-rw-r--r-- 1 root root 37217 Jul 14 05:17 doc-topics.csv\n",
      "-rw-r--r-- 1 root root  9629 Jul 14 05:17 topic-terms.csv\n"
     ]
    }
   ],
   "source": [
    "!ls -la results/entities"
   ]
  },
  {
   "cell_type": "code",
   "execution_count": 215,
   "metadata": {},
   "outputs": [],
   "source": [
    "doc_topics = pd.read_csv(\"results/entities/doc-topics.csv\")"
   ]
  },
  {
   "cell_type": "code",
   "execution_count": 216,
   "metadata": {},
   "outputs": [],
   "source": [
    "top_topics = doc_topics.groupby('docname').first().reset_index()"
   ]
  },
  {
   "cell_type": "code",
   "execution_count": 217,
   "metadata": {},
   "outputs": [
    {
     "data": {
      "text/html": [
       "<div>\n",
       "<style scoped>\n",
       "    .dataframe tbody tr th:only-of-type {\n",
       "        vertical-align: middle;\n",
       "    }\n",
       "\n",
       "    .dataframe tbody tr th {\n",
       "        vertical-align: top;\n",
       "    }\n",
       "\n",
       "    .dataframe thead th {\n",
       "        text-align: right;\n",
       "    }\n",
       "</style>\n",
       "<table border=\"1\" class=\"dataframe\">\n",
       "  <thead>\n",
       "    <tr style=\"text-align: right;\">\n",
       "      <th></th>\n",
       "      <th>docname</th>\n",
       "      <th>topic</th>\n",
       "      <th>proportion</th>\n",
       "    </tr>\n",
       "  </thead>\n",
       "  <tbody>\n",
       "    <tr>\n",
       "      <th>0</th>\n",
       "      <td>entities_text_only.csv:0</td>\n",
       "      <td>4</td>\n",
       "      <td>1.0</td>\n",
       "    </tr>\n",
       "    <tr>\n",
       "      <th>1</th>\n",
       "      <td>entities_text_only.csv:1</td>\n",
       "      <td>4</td>\n",
       "      <td>1.0</td>\n",
       "    </tr>\n",
       "    <tr>\n",
       "      <th>2</th>\n",
       "      <td>entities_text_only.csv:10</td>\n",
       "      <td>2</td>\n",
       "      <td>1.0</td>\n",
       "    </tr>\n",
       "    <tr>\n",
       "      <th>3</th>\n",
       "      <td>entities_text_only.csv:100</td>\n",
       "      <td>0</td>\n",
       "      <td>1.0</td>\n",
       "    </tr>\n",
       "    <tr>\n",
       "      <th>4</th>\n",
       "      <td>entities_text_only.csv:1000</td>\n",
       "      <td>10</td>\n",
       "      <td>1.0</td>\n",
       "    </tr>\n",
       "  </tbody>\n",
       "</table>\n",
       "</div>"
      ],
      "text/plain": [
       "                       docname  topic  proportion\n",
       "0     entities_text_only.csv:0      4         1.0\n",
       "1     entities_text_only.csv:1      4         1.0\n",
       "2    entities_text_only.csv:10      2         1.0\n",
       "3   entities_text_only.csv:100      0         1.0\n",
       "4  entities_text_only.csv:1000     10         1.0"
      ]
     },
     "execution_count": 217,
     "metadata": {},
     "output_type": "execute_result"
    }
   ],
   "source": [
    "top_topics.head()"
   ]
  },
  {
   "cell_type": "code",
   "execution_count": 218,
   "metadata": {},
   "outputs": [],
   "source": [
    "def get_line_no(docname):\n",
    "    return int(docname.split(':')[1])\n",
    "    \n",
    "top_topics['line'] =  top_topics['docname'].apply(lambda x : get_line_no(x))\n"
   ]
  },
  {
   "cell_type": "code",
   "execution_count": 219,
   "metadata": {},
   "outputs": [],
   "source": [
    "top_topics_sorted = top_topics.sort_values('line', axis=0, ascending=True, inplace=False)"
   ]
  },
  {
   "cell_type": "code",
   "execution_count": 220,
   "metadata": {},
   "outputs": [
    {
     "data": {
      "text/html": [
       "<div>\n",
       "<style scoped>\n",
       "    .dataframe tbody tr th:only-of-type {\n",
       "        vertical-align: middle;\n",
       "    }\n",
       "\n",
       "    .dataframe tbody tr th {\n",
       "        vertical-align: top;\n",
       "    }\n",
       "\n",
       "    .dataframe thead th {\n",
       "        text-align: right;\n",
       "    }\n",
       "</style>\n",
       "<table border=\"1\" class=\"dataframe\">\n",
       "  <thead>\n",
       "    <tr style=\"text-align: right;\">\n",
       "      <th></th>\n",
       "      <th>docname</th>\n",
       "      <th>topic</th>\n",
       "      <th>proportion</th>\n",
       "      <th>line</th>\n",
       "    </tr>\n",
       "  </thead>\n",
       "  <tbody>\n",
       "    <tr>\n",
       "      <th>0</th>\n",
       "      <td>entities_text_only.csv:0</td>\n",
       "      <td>4</td>\n",
       "      <td>1.0</td>\n",
       "      <td>0</td>\n",
       "    </tr>\n",
       "    <tr>\n",
       "      <th>1</th>\n",
       "      <td>entities_text_only.csv:1</td>\n",
       "      <td>4</td>\n",
       "      <td>1.0</td>\n",
       "      <td>1</td>\n",
       "    </tr>\n",
       "    <tr>\n",
       "      <th>121</th>\n",
       "      <td>entities_text_only.csv:2</td>\n",
       "      <td>3</td>\n",
       "      <td>1.0</td>\n",
       "      <td>2</td>\n",
       "    </tr>\n",
       "    <tr>\n",
       "      <th>232</th>\n",
       "      <td>entities_text_only.csv:3</td>\n",
       "      <td>6</td>\n",
       "      <td>1.0</td>\n",
       "      <td>3</td>\n",
       "    </tr>\n",
       "    <tr>\n",
       "      <th>343</th>\n",
       "      <td>entities_text_only.csv:4</td>\n",
       "      <td>4</td>\n",
       "      <td>1.0</td>\n",
       "      <td>4</td>\n",
       "    </tr>\n",
       "    <tr>\n",
       "      <th>...</th>\n",
       "      <td>...</td>\n",
       "      <td>...</td>\n",
       "      <td>...</td>\n",
       "      <td>...</td>\n",
       "    </tr>\n",
       "    <tr>\n",
       "      <th>8</th>\n",
       "      <td>entities_text_only.csv:1004</td>\n",
       "      <td>32</td>\n",
       "      <td>1.0</td>\n",
       "      <td>1004</td>\n",
       "    </tr>\n",
       "    <tr>\n",
       "      <th>9</th>\n",
       "      <td>entities_text_only.csv:1005</td>\n",
       "      <td>4</td>\n",
       "      <td>1.0</td>\n",
       "      <td>1005</td>\n",
       "    </tr>\n",
       "    <tr>\n",
       "      <th>10</th>\n",
       "      <td>entities_text_only.csv:1006</td>\n",
       "      <td>4</td>\n",
       "      <td>1.0</td>\n",
       "      <td>1006</td>\n",
       "    </tr>\n",
       "    <tr>\n",
       "      <th>11</th>\n",
       "      <td>entities_text_only.csv:1007</td>\n",
       "      <td>5</td>\n",
       "      <td>1.0</td>\n",
       "      <td>1007</td>\n",
       "    </tr>\n",
       "    <tr>\n",
       "      <th>12</th>\n",
       "      <td>entities_text_only.csv:1008</td>\n",
       "      <td>4</td>\n",
       "      <td>1.0</td>\n",
       "      <td>1008</td>\n",
       "    </tr>\n",
       "  </tbody>\n",
       "</table>\n",
       "<p>1009 rows × 4 columns</p>\n",
       "</div>"
      ],
      "text/plain": [
       "                         docname  topic  proportion  line\n",
       "0       entities_text_only.csv:0      4         1.0     0\n",
       "1       entities_text_only.csv:1      4         1.0     1\n",
       "121     entities_text_only.csv:2      3         1.0     2\n",
       "232     entities_text_only.csv:3      6         1.0     3\n",
       "343     entities_text_only.csv:4      4         1.0     4\n",
       "..                           ...    ...         ...   ...\n",
       "8    entities_text_only.csv:1004     32         1.0  1004\n",
       "9    entities_text_only.csv:1005      4         1.0  1005\n",
       "10   entities_text_only.csv:1006      4         1.0  1006\n",
       "11   entities_text_only.csv:1007      5         1.0  1007\n",
       "12   entities_text_only.csv:1008      4         1.0  1008\n",
       "\n",
       "[1009 rows x 4 columns]"
      ]
     },
     "execution_count": 220,
     "metadata": {},
     "output_type": "execute_result"
    }
   ],
   "source": [
    "top_topics_sorted"
   ]
  },
  {
   "cell_type": "code",
   "execution_count": 221,
   "metadata": {},
   "outputs": [],
   "source": [
    "topic_terms = pd.read_csv(\"results/entities/topic-terms.csv\")"
   ]
  },
  {
   "cell_type": "code",
   "execution_count": 223,
   "metadata": {},
   "outputs": [
    {
     "data": {
      "text/html": [
       "<div>\n",
       "<style scoped>\n",
       "    .dataframe tbody tr th:only-of-type {\n",
       "        vertical-align: middle;\n",
       "    }\n",
       "\n",
       "    .dataframe tbody tr th {\n",
       "        vertical-align: top;\n",
       "    }\n",
       "\n",
       "    .dataframe thead th {\n",
       "        text-align: right;\n",
       "    }\n",
       "</style>\n",
       "<table border=\"1\" class=\"dataframe\">\n",
       "  <thead>\n",
       "    <tr style=\"text-align: right;\">\n",
       "      <th></th>\n",
       "      <th>topic</th>\n",
       "      <th>term</th>\n",
       "      <th>weight</th>\n",
       "    </tr>\n",
       "  </thead>\n",
       "  <tbody>\n",
       "    <tr>\n",
       "      <th>312</th>\n",
       "      <td>41</td>\n",
       "      <td>warehouse_circus</td>\n",
       "      <td>0.330828</td>\n",
       "    </tr>\n",
       "    <tr>\n",
       "      <th>313</th>\n",
       "      <td>42</td>\n",
       "      <td>duntroon</td>\n",
       "      <td>0.334440</td>\n",
       "    </tr>\n",
       "    <tr>\n",
       "      <th>314</th>\n",
       "      <td>42</td>\n",
       "      <td>parnell_road</td>\n",
       "      <td>0.333556</td>\n",
       "    </tr>\n",
       "    <tr>\n",
       "      <th>315</th>\n",
       "      <td>42</td>\n",
       "      <td>royal_military_college</td>\n",
       "      <td>0.332005</td>\n",
       "    </tr>\n",
       "    <tr>\n",
       "      <th>316</th>\n",
       "      <td>43</td>\n",
       "      <td>walt</td>\n",
       "      <td>0.334036</td>\n",
       "    </tr>\n",
       "    <tr>\n",
       "      <th>317</th>\n",
       "      <td>43</td>\n",
       "      <td>trivium</td>\n",
       "      <td>0.333926</td>\n",
       "    </tr>\n",
       "    <tr>\n",
       "      <th>318</th>\n",
       "      <td>43</td>\n",
       "      <td>burley</td>\n",
       "      <td>0.332038</td>\n",
       "    </tr>\n",
       "    <tr>\n",
       "      <th>319</th>\n",
       "      <td>44</td>\n",
       "      <td>perinatal_wellbeing_centre</td>\n",
       "      <td>0.334745</td>\n",
       "    </tr>\n",
       "    <tr>\n",
       "      <th>320</th>\n",
       "      <td>44</td>\n",
       "      <td>hyatt_hotel</td>\n",
       "      <td>0.332622</td>\n",
       "    </tr>\n",
       "    <tr>\n",
       "      <th>321</th>\n",
       "      <td>44</td>\n",
       "      <td>cakeoff_2021</td>\n",
       "      <td>0.332633</td>\n",
       "    </tr>\n",
       "    <tr>\n",
       "      <th>322</th>\n",
       "      <td>45</td>\n",
       "      <td>keto</td>\n",
       "      <td>0.781830</td>\n",
       "    </tr>\n",
       "    <tr>\n",
       "      <th>323</th>\n",
       "      <td>45</td>\n",
       "      <td>cookbook</td>\n",
       "      <td>0.218170</td>\n",
       "    </tr>\n",
       "    <tr>\n",
       "      <th>324</th>\n",
       "      <td>46</td>\n",
       "      <td>canberrans</td>\n",
       "      <td>1.000000</td>\n",
       "    </tr>\n",
       "    <tr>\n",
       "      <th>325</th>\n",
       "      <td>47</td>\n",
       "      <td>canberrans</td>\n",
       "      <td>1.000000</td>\n",
       "    </tr>\n",
       "    <tr>\n",
       "      <th>326</th>\n",
       "      <td>48</td>\n",
       "      <td>australia</td>\n",
       "      <td>1.000000</td>\n",
       "    </tr>\n",
       "    <tr>\n",
       "      <th>327</th>\n",
       "      <td>49</td>\n",
       "      <td>nsw</td>\n",
       "      <td>0.516062</td>\n",
       "    </tr>\n",
       "    <tr>\n",
       "      <th>328</th>\n",
       "      <td>49</td>\n",
       "      <td>minister</td>\n",
       "      <td>0.289639</td>\n",
       "    </tr>\n",
       "    <tr>\n",
       "      <th>329</th>\n",
       "      <td>49</td>\n",
       "      <td>ernest_wetherell</td>\n",
       "      <td>0.071840</td>\n",
       "    </tr>\n",
       "    <tr>\n",
       "      <th>330</th>\n",
       "      <td>49</td>\n",
       "      <td>australia</td>\n",
       "      <td>0.104536</td>\n",
       "    </tr>\n",
       "    <tr>\n",
       "      <th>331</th>\n",
       "      <td>49</td>\n",
       "      <td>fyshwick</td>\n",
       "      <td>0.017923</td>\n",
       "    </tr>\n",
       "  </tbody>\n",
       "</table>\n",
       "</div>"
      ],
      "text/plain": [
       "     topic                        term    weight\n",
       "312     41            warehouse_circus  0.330828\n",
       "313     42                    duntroon  0.334440\n",
       "314     42                parnell_road  0.333556\n",
       "315     42      royal_military_college  0.332005\n",
       "316     43                        walt  0.334036\n",
       "317     43                     trivium  0.333926\n",
       "318     43                      burley  0.332038\n",
       "319     44  perinatal_wellbeing_centre  0.334745\n",
       "320     44                 hyatt_hotel  0.332622\n",
       "321     44                cakeoff_2021  0.332633\n",
       "322     45                        keto  0.781830\n",
       "323     45                    cookbook  0.218170\n",
       "324     46                  canberrans  1.000000\n",
       "325     47                  canberrans  1.000000\n",
       "326     48                   australia  1.000000\n",
       "327     49                         nsw  0.516062\n",
       "328     49                    minister  0.289639\n",
       "329     49            ernest_wetherell  0.071840\n",
       "330     49                   australia  0.104536\n",
       "331     49                    fyshwick  0.017923"
      ]
     },
     "execution_count": 223,
     "metadata": {},
     "output_type": "execute_result"
    }
   ],
   "source": [
    "topic_terms.tail(20)"
   ]
  },
  {
   "cell_type": "code",
   "execution_count": 224,
   "metadata": {},
   "outputs": [],
   "source": [
    "topic_labels = topic_terms.groupby('topic').first().reset_index()"
   ]
  },
  {
   "cell_type": "code",
   "execution_count": 226,
   "metadata": {},
   "outputs": [
    {
     "data": {
      "text/html": [
       "<div>\n",
       "<style scoped>\n",
       "    .dataframe tbody tr th:only-of-type {\n",
       "        vertical-align: middle;\n",
       "    }\n",
       "\n",
       "    .dataframe tbody tr th {\n",
       "        vertical-align: top;\n",
       "    }\n",
       "\n",
       "    .dataframe thead th {\n",
       "        text-align: right;\n",
       "    }\n",
       "</style>\n",
       "<table border=\"1\" class=\"dataframe\">\n",
       "  <thead>\n",
       "    <tr style=\"text-align: right;\">\n",
       "      <th></th>\n",
       "      <th>topic</th>\n",
       "      <th>term</th>\n",
       "      <th>weight</th>\n",
       "    </tr>\n",
       "  </thead>\n",
       "  <tbody>\n",
       "    <tr>\n",
       "      <th>0</th>\n",
       "      <td>0</td>\n",
       "      <td>raider</td>\n",
       "      <td>0.062456</td>\n",
       "    </tr>\n",
       "    <tr>\n",
       "      <th>1</th>\n",
       "      <td>1</td>\n",
       "      <td>canberra_times</td>\n",
       "      <td>0.085083</td>\n",
       "    </tr>\n",
       "    <tr>\n",
       "      <th>2</th>\n",
       "      <td>2</td>\n",
       "      <td>brumbies</td>\n",
       "      <td>0.144344</td>\n",
       "    </tr>\n",
       "    <tr>\n",
       "      <th>3</th>\n",
       "      <td>3</td>\n",
       "      <td>australia</td>\n",
       "      <td>0.149790</td>\n",
       "    </tr>\n",
       "    <tr>\n",
       "      <th>4</th>\n",
       "      <td>4</td>\n",
       "      <td>geelong_street</td>\n",
       "      <td>0.041470</td>\n",
       "    </tr>\n",
       "    <tr>\n",
       "      <th>5</th>\n",
       "      <td>5</td>\n",
       "      <td>act_supreme_court</td>\n",
       "      <td>0.121782</td>\n",
       "    </tr>\n",
       "    <tr>\n",
       "      <th>6</th>\n",
       "      <td>6</td>\n",
       "      <td>canberra</td>\n",
       "      <td>0.213300</td>\n",
       "    </tr>\n",
       "    <tr>\n",
       "      <th>7</th>\n",
       "      <td>7</td>\n",
       "      <td>act_government</td>\n",
       "      <td>0.160364</td>\n",
       "    </tr>\n",
       "    <tr>\n",
       "      <th>8</th>\n",
       "      <td>8</td>\n",
       "      <td>canberra</td>\n",
       "      <td>0.162315</td>\n",
       "    </tr>\n",
       "    <tr>\n",
       "      <th>9</th>\n",
       "      <td>9</td>\n",
       "      <td>act_fire_and_rescue</td>\n",
       "      <td>0.125362</td>\n",
       "    </tr>\n",
       "    <tr>\n",
       "      <th>10</th>\n",
       "      <td>10</td>\n",
       "      <td>centrelink</td>\n",
       "      <td>0.143050</td>\n",
       "    </tr>\n",
       "    <tr>\n",
       "      <th>11</th>\n",
       "      <td>11</td>\n",
       "      <td>dion_georgopoulos</td>\n",
       "      <td>0.183601</td>\n",
       "    </tr>\n",
       "    <tr>\n",
       "      <th>12</th>\n",
       "      <td>12</td>\n",
       "      <td>australia</td>\n",
       "      <td>0.353654</td>\n",
       "    </tr>\n",
       "    <tr>\n",
       "      <th>13</th>\n",
       "      <td>13</td>\n",
       "      <td>parliament_house</td>\n",
       "      <td>0.211713</td>\n",
       "    </tr>\n",
       "    <tr>\n",
       "      <th>14</th>\n",
       "      <td>14</td>\n",
       "      <td>china</td>\n",
       "      <td>0.213672</td>\n",
       "    </tr>\n",
       "    <tr>\n",
       "      <th>15</th>\n",
       "      <td>15</td>\n",
       "      <td>act</td>\n",
       "      <td>0.209449</td>\n",
       "    </tr>\n",
       "    <tr>\n",
       "      <th>16</th>\n",
       "      <td>16</td>\n",
       "      <td>fyshwick</td>\n",
       "      <td>0.245403</td>\n",
       "    </tr>\n",
       "    <tr>\n",
       "      <th>17</th>\n",
       "      <td>17</td>\n",
       "      <td>australian_federal_police</td>\n",
       "      <td>0.225895</td>\n",
       "    </tr>\n",
       "    <tr>\n",
       "      <th>18</th>\n",
       "      <td>18</td>\n",
       "      <td>tuggeranong</td>\n",
       "      <td>0.039394</td>\n",
       "    </tr>\n",
       "    <tr>\n",
       "      <th>19</th>\n",
       "      <td>19</td>\n",
       "      <td>canberra_croatia_fc</td>\n",
       "      <td>0.230161</td>\n",
       "    </tr>\n",
       "  </tbody>\n",
       "</table>\n",
       "</div>"
      ],
      "text/plain": [
       "    topic                       term    weight\n",
       "0       0                     raider  0.062456\n",
       "1       1             canberra_times  0.085083\n",
       "2       2                   brumbies  0.144344\n",
       "3       3                  australia  0.149790\n",
       "4       4             geelong_street  0.041470\n",
       "5       5          act_supreme_court  0.121782\n",
       "6       6                   canberra  0.213300\n",
       "7       7             act_government  0.160364\n",
       "8       8                   canberra  0.162315\n",
       "9       9        act_fire_and_rescue  0.125362\n",
       "10     10                 centrelink  0.143050\n",
       "11     11          dion_georgopoulos  0.183601\n",
       "12     12                  australia  0.353654\n",
       "13     13           parliament_house  0.211713\n",
       "14     14                      china  0.213672\n",
       "15     15                        act  0.209449\n",
       "16     16                   fyshwick  0.245403\n",
       "17     17  australian_federal_police  0.225895\n",
       "18     18                tuggeranong  0.039394\n",
       "19     19        canberra_croatia_fc  0.230161"
      ]
     },
     "execution_count": 226,
     "metadata": {},
     "output_type": "execute_result"
    }
   ],
   "source": [
    "topic_labels.head(20)"
   ]
  },
  {
   "cell_type": "code",
   "execution_count": 230,
   "metadata": {},
   "outputs": [],
   "source": [
    "topic_labels['label'] = topic_labels['term'].apply(lambda x: str(x).replace(\"_\", \" \").capitalize() )"
   ]
  },
  {
   "cell_type": "code",
   "execution_count": 231,
   "metadata": {},
   "outputs": [
    {
     "data": {
      "text/html": [
       "<div>\n",
       "<style scoped>\n",
       "    .dataframe tbody tr th:only-of-type {\n",
       "        vertical-align: middle;\n",
       "    }\n",
       "\n",
       "    .dataframe tbody tr th {\n",
       "        vertical-align: top;\n",
       "    }\n",
       "\n",
       "    .dataframe thead th {\n",
       "        text-align: right;\n",
       "    }\n",
       "</style>\n",
       "<table border=\"1\" class=\"dataframe\">\n",
       "  <thead>\n",
       "    <tr style=\"text-align: right;\">\n",
       "      <th></th>\n",
       "      <th>topic</th>\n",
       "      <th>term</th>\n",
       "      <th>weight</th>\n",
       "      <th>label</th>\n",
       "    </tr>\n",
       "  </thead>\n",
       "  <tbody>\n",
       "    <tr>\n",
       "      <th>0</th>\n",
       "      <td>0</td>\n",
       "      <td>raider</td>\n",
       "      <td>0.062456</td>\n",
       "      <td>Raider</td>\n",
       "    </tr>\n",
       "    <tr>\n",
       "      <th>1</th>\n",
       "      <td>1</td>\n",
       "      <td>canberra_times</td>\n",
       "      <td>0.085083</td>\n",
       "      <td>Canberra times</td>\n",
       "    </tr>\n",
       "    <tr>\n",
       "      <th>2</th>\n",
       "      <td>2</td>\n",
       "      <td>brumbies</td>\n",
       "      <td>0.144344</td>\n",
       "      <td>Brumbies</td>\n",
       "    </tr>\n",
       "    <tr>\n",
       "      <th>3</th>\n",
       "      <td>3</td>\n",
       "      <td>australia</td>\n",
       "      <td>0.149790</td>\n",
       "      <td>Australia</td>\n",
       "    </tr>\n",
       "    <tr>\n",
       "      <th>4</th>\n",
       "      <td>4</td>\n",
       "      <td>geelong_street</td>\n",
       "      <td>0.041470</td>\n",
       "      <td>Geelong street</td>\n",
       "    </tr>\n",
       "    <tr>\n",
       "      <th>5</th>\n",
       "      <td>5</td>\n",
       "      <td>act_supreme_court</td>\n",
       "      <td>0.121782</td>\n",
       "      <td>Act supreme court</td>\n",
       "    </tr>\n",
       "    <tr>\n",
       "      <th>6</th>\n",
       "      <td>6</td>\n",
       "      <td>canberra</td>\n",
       "      <td>0.213300</td>\n",
       "      <td>Canberra</td>\n",
       "    </tr>\n",
       "    <tr>\n",
       "      <th>7</th>\n",
       "      <td>7</td>\n",
       "      <td>act_government</td>\n",
       "      <td>0.160364</td>\n",
       "      <td>Act government</td>\n",
       "    </tr>\n",
       "    <tr>\n",
       "      <th>8</th>\n",
       "      <td>8</td>\n",
       "      <td>canberra</td>\n",
       "      <td>0.162315</td>\n",
       "      <td>Canberra</td>\n",
       "    </tr>\n",
       "    <tr>\n",
       "      <th>9</th>\n",
       "      <td>9</td>\n",
       "      <td>act_fire_and_rescue</td>\n",
       "      <td>0.125362</td>\n",
       "      <td>Act fire and rescue</td>\n",
       "    </tr>\n",
       "    <tr>\n",
       "      <th>10</th>\n",
       "      <td>10</td>\n",
       "      <td>centrelink</td>\n",
       "      <td>0.143050</td>\n",
       "      <td>Centrelink</td>\n",
       "    </tr>\n",
       "    <tr>\n",
       "      <th>11</th>\n",
       "      <td>11</td>\n",
       "      <td>dion_georgopoulos</td>\n",
       "      <td>0.183601</td>\n",
       "      <td>Dion georgopoulos</td>\n",
       "    </tr>\n",
       "    <tr>\n",
       "      <th>12</th>\n",
       "      <td>12</td>\n",
       "      <td>australia</td>\n",
       "      <td>0.353654</td>\n",
       "      <td>Australia</td>\n",
       "    </tr>\n",
       "    <tr>\n",
       "      <th>13</th>\n",
       "      <td>13</td>\n",
       "      <td>parliament_house</td>\n",
       "      <td>0.211713</td>\n",
       "      <td>Parliament house</td>\n",
       "    </tr>\n",
       "    <tr>\n",
       "      <th>14</th>\n",
       "      <td>14</td>\n",
       "      <td>china</td>\n",
       "      <td>0.213672</td>\n",
       "      <td>China</td>\n",
       "    </tr>\n",
       "    <tr>\n",
       "      <th>15</th>\n",
       "      <td>15</td>\n",
       "      <td>act</td>\n",
       "      <td>0.209449</td>\n",
       "      <td>Act</td>\n",
       "    </tr>\n",
       "    <tr>\n",
       "      <th>16</th>\n",
       "      <td>16</td>\n",
       "      <td>fyshwick</td>\n",
       "      <td>0.245403</td>\n",
       "      <td>Fyshwick</td>\n",
       "    </tr>\n",
       "    <tr>\n",
       "      <th>17</th>\n",
       "      <td>17</td>\n",
       "      <td>australian_federal_police</td>\n",
       "      <td>0.225895</td>\n",
       "      <td>Australian federal police</td>\n",
       "    </tr>\n",
       "    <tr>\n",
       "      <th>18</th>\n",
       "      <td>18</td>\n",
       "      <td>tuggeranong</td>\n",
       "      <td>0.039394</td>\n",
       "      <td>Tuggeranong</td>\n",
       "    </tr>\n",
       "    <tr>\n",
       "      <th>19</th>\n",
       "      <td>19</td>\n",
       "      <td>canberra_croatia_fc</td>\n",
       "      <td>0.230161</td>\n",
       "      <td>Canberra croatia fc</td>\n",
       "    </tr>\n",
       "  </tbody>\n",
       "</table>\n",
       "</div>"
      ],
      "text/plain": [
       "    topic                       term    weight                      label\n",
       "0       0                     raider  0.062456                     Raider\n",
       "1       1             canberra_times  0.085083             Canberra times\n",
       "2       2                   brumbies  0.144344                   Brumbies\n",
       "3       3                  australia  0.149790                  Australia\n",
       "4       4             geelong_street  0.041470             Geelong street\n",
       "5       5          act_supreme_court  0.121782          Act supreme court\n",
       "6       6                   canberra  0.213300                   Canberra\n",
       "7       7             act_government  0.160364             Act government\n",
       "8       8                   canberra  0.162315                   Canberra\n",
       "9       9        act_fire_and_rescue  0.125362        Act fire and rescue\n",
       "10     10                 centrelink  0.143050                 Centrelink\n",
       "11     11          dion_georgopoulos  0.183601          Dion georgopoulos\n",
       "12     12                  australia  0.353654                  Australia\n",
       "13     13           parliament_house  0.211713           Parliament house\n",
       "14     14                      china  0.213672                      China\n",
       "15     15                        act  0.209449                        Act\n",
       "16     16                   fyshwick  0.245403                   Fyshwick\n",
       "17     17  australian_federal_police  0.225895  Australian federal police\n",
       "18     18                tuggeranong  0.039394                Tuggeranong\n",
       "19     19        canberra_croatia_fc  0.230161        Canberra croatia fc"
      ]
     },
     "execution_count": 231,
     "metadata": {},
     "output_type": "execute_result"
    }
   ],
   "source": [
    "topic_labels.head(20)"
   ]
  },
  {
   "cell_type": "code",
   "execution_count": 234,
   "metadata": {},
   "outputs": [],
   "source": [
    "topic_label_map = dict( (topic_labels.loc[:,['topic','label']] ).values )"
   ]
  },
  {
   "cell_type": "code",
   "execution_count": 235,
   "metadata": {},
   "outputs": [
    {
     "data": {
      "text/plain": [
       "'Canberra croatia fc'"
      ]
     },
     "execution_count": 235,
     "metadata": {},
     "output_type": "execute_result"
    }
   ],
   "source": [
    "topic_label_map[19]"
   ]
  },
  {
   "cell_type": "markdown",
   "metadata": {},
   "source": [
    "## Join back to the orginal documents and get topic labels"
   ]
  },
  {
   "cell_type": "code",
   "execution_count": 238,
   "metadata": {},
   "outputs": [],
   "source": [
    "top_topics_sorted['label'] = top_topics_sorted['topic'].apply(lambda z: topic_label_map[z])"
   ]
  },
  {
   "cell_type": "code",
   "execution_count": 239,
   "metadata": {},
   "outputs": [
    {
     "data": {
      "text/html": [
       "<div>\n",
       "<style scoped>\n",
       "    .dataframe tbody tr th:only-of-type {\n",
       "        vertical-align: middle;\n",
       "    }\n",
       "\n",
       "    .dataframe tbody tr th {\n",
       "        vertical-align: top;\n",
       "    }\n",
       "\n",
       "    .dataframe thead th {\n",
       "        text-align: right;\n",
       "    }\n",
       "</style>\n",
       "<table border=\"1\" class=\"dataframe\">\n",
       "  <thead>\n",
       "    <tr style=\"text-align: right;\">\n",
       "      <th></th>\n",
       "      <th>docname</th>\n",
       "      <th>topic</th>\n",
       "      <th>proportion</th>\n",
       "      <th>line</th>\n",
       "      <th>label</th>\n",
       "    </tr>\n",
       "  </thead>\n",
       "  <tbody>\n",
       "    <tr>\n",
       "      <th>0</th>\n",
       "      <td>entities_text_only.csv:0</td>\n",
       "      <td>4</td>\n",
       "      <td>1.0</td>\n",
       "      <td>0</td>\n",
       "      <td>Geelong street</td>\n",
       "    </tr>\n",
       "    <tr>\n",
       "      <th>1</th>\n",
       "      <td>entities_text_only.csv:1</td>\n",
       "      <td>4</td>\n",
       "      <td>1.0</td>\n",
       "      <td>1</td>\n",
       "      <td>Geelong street</td>\n",
       "    </tr>\n",
       "    <tr>\n",
       "      <th>121</th>\n",
       "      <td>entities_text_only.csv:2</td>\n",
       "      <td>3</td>\n",
       "      <td>1.0</td>\n",
       "      <td>2</td>\n",
       "      <td>Australia</td>\n",
       "    </tr>\n",
       "    <tr>\n",
       "      <th>232</th>\n",
       "      <td>entities_text_only.csv:3</td>\n",
       "      <td>6</td>\n",
       "      <td>1.0</td>\n",
       "      <td>3</td>\n",
       "      <td>Canberra</td>\n",
       "    </tr>\n",
       "    <tr>\n",
       "      <th>343</th>\n",
       "      <td>entities_text_only.csv:4</td>\n",
       "      <td>4</td>\n",
       "      <td>1.0</td>\n",
       "      <td>4</td>\n",
       "      <td>Geelong street</td>\n",
       "    </tr>\n",
       "  </tbody>\n",
       "</table>\n",
       "</div>"
      ],
      "text/plain": [
       "                      docname  topic  proportion  line           label\n",
       "0    entities_text_only.csv:0      4         1.0     0  Geelong street\n",
       "1    entities_text_only.csv:1      4         1.0     1  Geelong street\n",
       "121  entities_text_only.csv:2      3         1.0     2       Australia\n",
       "232  entities_text_only.csv:3      6         1.0     3        Canberra\n",
       "343  entities_text_only.csv:4      4         1.0     4  Geelong street"
      ]
     },
     "execution_count": 239,
     "metadata": {},
     "output_type": "execute_result"
    }
   ],
   "source": [
    "top_topics_sorted.head()"
   ]
  },
  {
   "cell_type": "code",
   "execution_count": 242,
   "metadata": {},
   "outputs": [
    {
     "data": {
      "text/plain": [
       "' Model Akiima was born in the small village of Loki while her family was travelling to a Kenyan refugee camp when fleeing war in South Sudan.  After 10 years, Akiima and her family moved to Australia to start a new life. Multicultural Hub Canberra supported Akiima in a placement at IRT Kangara Waters Residential Care where she became a valued aged-care worker and a mentor for many refugees experiencing their first job. Her happy and supportive personality made everyone feel comfortable and welcome. After being introduced to a modelling agency by a friend, Akiima made her modelling runway debut with the late Carla Zampatti and has since been in demand on runways all over the world including fashion shows in Paris, London and New York. Akiima has modelled for known fashion labels such as Versace, Gucci, Prada and Saint Laurent and has appeared on the cover of fashion magazines including Vogue. In a recent Vogue interview, Akiima said, \"Australia is a multicultural country, but unfortunately we don\\'t get to see the diversity of Australian beauty. We have come a long way, but we still need to discuss diversity in the modelling industry. Beauty comes in all colours - embrace them all.\" Akiima added, \"As a black woman I\\'ve used my platform to speak about subjects that are important, because I\\'ve become a role model to other younger girls. They start to imagine themselves in my shoes. Some of them want to be models or in the entertainment business and I would love to knock down the door for them. I never feel pressure to talk about our issues; I just hope someone hears me out.\" As well as Akiima, Multicultural Hub Canberra has supported the settlement of many local migrants and refugees through its specialist multicultural care and settlement services. The Hub\\'s Multicultural Employment Service has placed over 1100 people in jobs since 2014 and its Multicultural Women\\'s Service, while being relatively new, currently has over 100 women seeking help with housing, employment and domestic violence issues.  Refugee Week is an important time of the year for the Hub to celebrate the lives and achievements of refugees and asylum seekers who have arrived in Australia with very little. Each year the Hub holds its World Refugee Week (World Cup) soccer and volleyball tournament with over 12 teams competing in Refugee Week this year. Sport has been a very important part of the lives of many in refugee camps where some were born and have lived most of their lives.  Multicultural Hub Canberra joins with other services to promote Refugee Week at the time we celebrate our fortune to be living in such a diverse community in which we can all flourish and grow together. '"
      ]
     },
     "execution_count": 242,
     "metadata": {},
     "output_type": "execute_result"
    }
   ],
   "source": [
    "text_only.loc[0].text"
   ]
  },
  {
   "cell_type": "code",
   "execution_count": 244,
   "metadata": {},
   "outputs": [
    {
     "data": {
      "text/plain": [
       "'The Kiwi NRL Olympics Australia Renegade Tokyo TKO Victor_Oganov Olympic_Games IBF_Australasian Jason_Whateley Lucas_Browne Paul_Gallen Issac_Hardman Emmanuel_Carlos ANBF_Australian GLANCE_Termination_Day Sam_Goodman Justis_Huni Andrei_Mikhailovich Jeff_Fenech International_Convention_Centre_Sydney Sydney\\'s_International_Convention_Centre Nort_Beauchamp Eddie_Hearn ANBF_Australian_heavyweight WBO_Oriental Dean_Lonergan Grahame_\"\"Spike\"\"_Cheney Mark_Hunt Jai_Opetaia Alex_Hanan'"
      ]
     },
     "execution_count": 244,
     "metadata": {},
     "output_type": "execute_result"
    }
   ],
   "source": [
    "df.loc[0].text"
   ]
  },
  {
   "cell_type": "code",
   "execution_count": null,
   "metadata": {},
   "outputs": [],
   "source": []
  },
  {
   "cell_type": "code",
   "execution_count": null,
   "metadata": {},
   "outputs": [],
   "source": []
  }
 ],
 "metadata": {
  "instance_type": "ml.t3.medium",
  "kernelspec": {
   "display_name": "Python 3 (Data Science)",
   "language": "python",
   "name": "python3__SAGEMAKER_INTERNAL__arn:aws:sagemaker:ap-southeast-2:452832661640:image/datascience-1.0"
  },
  "language_info": {
   "codemirror_mode": {
    "name": "ipython",
    "version": 3
   },
   "file_extension": ".py",
   "mimetype": "text/x-python",
   "name": "python",
   "nbconvert_exporter": "python",
   "pygments_lexer": "ipython3",
   "version": "3.7.10"
  }
 },
 "nbformat": 4,
 "nbformat_minor": 4
}
