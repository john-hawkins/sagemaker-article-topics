{
 "cells": [
  {
   "cell_type": "markdown",
   "metadata": {},
   "source": [
    "# Topic Labelling with Comprehend\n",
    "\n",
    "In this example Notebook we are going to generate article labels/tags making use of the Comprehend Service to do Topic Modelling.\n",
    "\n",
    "We will compare this with labelled data to see how well th groupings agree with human generated topic labels.\n",
    "\n",
    "This Notebook was run in Sagemaker Studio with The **Python 3 (Data Science)** Kernel.\n",
    "\n",
    "There is some IAM configuration that needs to be done later in the notebook. This blog contains some useful general guidelines on using Comprehend.\n",
    "\n",
    "https://zyabkina.com/nlp-with-aws-comprehend-how-to-guide/"
   ]
  },
  {
   "cell_type": "code",
   "execution_count": 1,
   "metadata": {},
   "outputs": [],
   "source": [
    "import pandas as pd\n",
    "import numpy as np\n",
    "import sagemaker\n",
    "import boto3\n",
    "\n",
    "boto_session = boto3.Session()\n",
    "region = boto_session.region_name\n",
    "comprehend = boto3.client('comprehend', region_name=region)\n",
    "sgmk_session = sagemaker.Session()\n",
    "sgmk_role = sagemaker.get_execution_role()"
   ]
  },
  {
   "cell_type": "markdown",
   "metadata": {},
   "source": [
    "Load the data"
   ]
  },
  {
   "cell_type": "code",
   "execution_count": 2,
   "metadata": {},
   "outputs": [],
   "source": [
    "ctstories = \"s3://funnybones/rural/topics/CTstories.csv\"\n",
    "stories = \"s3://funnybones/rural/topics/stories.csv\""
   ]
  },
  {
   "cell_type": "code",
   "execution_count": 3,
   "metadata": {},
   "outputs": [],
   "source": [
    "df1 = pd.read_csv(ctstories)"
   ]
  },
  {
   "cell_type": "code",
   "execution_count": 4,
   "metadata": {},
   "outputs": [],
   "source": [
    "df2 = pd.read_csv(stories)"
   ]
  },
  {
   "cell_type": "code",
   "execution_count": 5,
   "metadata": {},
   "outputs": [
    {
     "data": {
      "text/html": [
       "<div>\n",
       "<style scoped>\n",
       "    .dataframe tbody tr th:only-of-type {\n",
       "        vertical-align: middle;\n",
       "    }\n",
       "\n",
       "    .dataframe tbody tr th {\n",
       "        vertical-align: top;\n",
       "    }\n",
       "\n",
       "    .dataframe thead th {\n",
       "        text-align: right;\n",
       "    }\n",
       "</style>\n",
       "<table border=\"1\" class=\"dataframe\">\n",
       "  <thead>\n",
       "    <tr style=\"text-align: right;\">\n",
       "      <th></th>\n",
       "      <th>id</th>\n",
       "      <th>category</th>\n",
       "      <th>summary</th>\n",
       "      <th>tags</th>\n",
       "      <th>text</th>\n",
       "      <th>title</th>\n",
       "    </tr>\n",
       "  </thead>\n",
       "  <tbody>\n",
       "    <tr>\n",
       "      <th>0</th>\n",
       "      <td>7300876</td>\n",
       "      <td>human</td>\n",
       "      <td>Multicultural Hub Canberra has supported the s...</td>\n",
       "      <td>['bf-label-advertising-feature', 'story-busine...</td>\n",
       "      <td>Model Akiima was born in the small village of...</td>\n",
       "      <td>Model of success - from refugee to the runways</td>\n",
       "    </tr>\n",
       "    <tr>\n",
       "      <th>1</th>\n",
       "      <td>7300648</td>\n",
       "      <td>sport</td>\n",
       "      <td>Justis Huni and Paul Gallen finally went head ...</td>\n",
       "      <td>['domestic-sports', 'top-sport']</td>\n",
       "      <td>This was poetic Justis at its finest. For all...</td>\n",
       "      <td>Poetic Justis: Huni demolishes Gallen</td>\n",
       "    </tr>\n",
       "    <tr>\n",
       "      <th>2</th>\n",
       "      <td>7300577</td>\n",
       "      <td>environment</td>\n",
       "      <td>Mr Bowen declared \"this is a solar panel, don'...</td>\n",
       "      <td>['news', 'subscriber-only', 'federal-politics'...</td>\n",
       "      <td>It has taken four years, but Labor's Chris Bo...</td>\n",
       "      <td>'This is a solar panel, don't be afraid': Labo...</td>\n",
       "    </tr>\n",
       "    <tr>\n",
       "      <th>3</th>\n",
       "      <td>7300512</td>\n",
       "      <td>arts</td>\n",
       "      <td>Now, most celebrities fly by private jet with ...</td>\n",
       "      <td>['books', 'signpost-review']</td>\n",
       "      <td>Remember when flying was glamorous and ocean ...</td>\n",
       "      <td>Glamorous travel of yesteryear</td>\n",
       "    </tr>\n",
       "    <tr>\n",
       "      <th>4</th>\n",
       "      <td>7300496</td>\n",
       "      <td>sport</td>\n",
       "      <td>Tahlia Tupaea will remain in Canberra next sea...</td>\n",
       "      <td>['capitals', 'basketball', 'signpost-subscribe...</td>\n",
       "      <td>The second youngest debutant in WNBL history ...</td>\n",
       "      <td>Tupaea locked in for her return to the capital</td>\n",
       "    </tr>\n",
       "  </tbody>\n",
       "</table>\n",
       "</div>"
      ],
      "text/plain": [
       "        id     category                                            summary  \\\n",
       "0  7300876        human  Multicultural Hub Canberra has supported the s...   \n",
       "1  7300648        sport  Justis Huni and Paul Gallen finally went head ...   \n",
       "2  7300577  environment  Mr Bowen declared \"this is a solar panel, don'...   \n",
       "3  7300512         arts  Now, most celebrities fly by private jet with ...   \n",
       "4  7300496        sport  Tahlia Tupaea will remain in Canberra next sea...   \n",
       "\n",
       "                                                tags  \\\n",
       "0  ['bf-label-advertising-feature', 'story-busine...   \n",
       "1                   ['domestic-sports', 'top-sport']   \n",
       "2  ['news', 'subscriber-only', 'federal-politics'...   \n",
       "3                       ['books', 'signpost-review']   \n",
       "4  ['capitals', 'basketball', 'signpost-subscribe...   \n",
       "\n",
       "                                                text  \\\n",
       "0   Model Akiima was born in the small village of...   \n",
       "1   This was poetic Justis at its finest. For all...   \n",
       "2   It has taken four years, but Labor's Chris Bo...   \n",
       "3   Remember when flying was glamorous and ocean ...   \n",
       "4   The second youngest debutant in WNBL history ...   \n",
       "\n",
       "                                               title  \n",
       "0     Model of success - from refugee to the runways  \n",
       "1              Poetic Justis: Huni demolishes Gallen  \n",
       "2  'This is a solar panel, don't be afraid': Labo...  \n",
       "3                     Glamorous travel of yesteryear  \n",
       "4     Tupaea locked in for her return to the capital  "
      ]
     },
     "execution_count": 5,
     "metadata": {},
     "output_type": "execute_result"
    }
   ],
   "source": [
    "df1.head()\n"
   ]
  },
  {
   "cell_type": "code",
   "execution_count": 6,
   "metadata": {},
   "outputs": [],
   "source": [
    "result = df1"
   ]
  },
  {
   "cell_type": "code",
   "execution_count": 7,
   "metadata": {},
   "outputs": [
    {
     "data": {
      "text/plain": [
       "1009"
      ]
     },
     "execution_count": 7,
     "metadata": {},
     "output_type": "execute_result"
    }
   ],
   "source": [
    "len(result)"
   ]
  },
  {
   "cell_type": "code",
   "execution_count": 8,
   "metadata": {},
   "outputs": [],
   "source": [
    "text_only = result.loc[:,['text']]"
   ]
  },
  {
   "cell_type": "code",
   "execution_count": 9,
   "metadata": {},
   "outputs": [],
   "source": [
    "text_only.to_csv(\"data/text_only.csv\", index=False, header=False)"
   ]
  },
  {
   "cell_type": "markdown",
   "metadata": {},
   "source": [
    "Upload the text only to S3"
   ]
  },
  {
   "cell_type": "code",
   "execution_count": 10,
   "metadata": {},
   "outputs": [],
   "source": [
    "bucket_name = \"funnybones\"\n",
    "bucket_prefix=\"rural/topics/text\""
   ]
  },
  {
   "cell_type": "code",
   "execution_count": 11,
   "metadata": {},
   "outputs": [],
   "source": [
    "# Upload CSV files to S3 for SageMaker training\n",
    "train_uri = sgmk_session.upload_data(\n",
    "    path=\"data/text_only.csv\",\n",
    "    bucket=bucket_name,\n",
    "    key_prefix=bucket_prefix,\n",
    ")"
   ]
  },
  {
   "cell_type": "code",
   "execution_count": 12,
   "metadata": {},
   "outputs": [
    {
     "data": {
      "text/plain": [
       "'s3://funnybones/rural/topics/text/text_only.csv'"
      ]
     },
     "execution_count": 12,
     "metadata": {},
     "output_type": "execute_result"
    }
   ],
   "source": [
    "train_uri"
   ]
  },
  {
   "cell_type": "code",
   "execution_count": 13,
   "metadata": {},
   "outputs": [],
   "source": [
    "output_uri=\"s3://funnybones/rural/topics/model/\""
   ]
  },
  {
   "cell_type": "markdown",
   "metadata": {},
   "source": [
    "### Data Access\n",
    "\n",
    "This next part is critical to using Comprehend to build models inside Sagemaker Studio.\n",
    "\n",
    "We create a Role that will grant access to the S3 buckets where the data will be.\n",
    "\n",
    "We then need grant our Sagemaker Execution Role the ability to pass this Role to the Comprehend Service.\n",
    "\n",
    "I added this as an inline policy to my Sagemaker Execution Role:\n",
    "\n",
    "```\n",
    "{\n",
    "    \"Version\": \"2012-10-17\",\n",
    "    \"Statement\": {\n",
    "        \"Effect\": \"Allow\",\n",
    "        \"Action\": \"iam:PassRole\",\n",
    "        \"Resource\": \"arn:aws:iam::320389841409:role/ComprehendS3Access\"\n",
    "    }\n",
    "}\n",
    "```"
   ]
  },
  {
   "cell_type": "code",
   "execution_count": 14,
   "metadata": {},
   "outputs": [],
   "source": [
    "comprehend_role = \"arn:aws:iam::320389841409:role/ComprehendS3Access\""
   ]
  },
  {
   "cell_type": "markdown",
   "metadata": {},
   "source": [
    "# Run a topic modelling job"
   ]
  },
  {
   "cell_type": "code",
   "execution_count": 15,
   "metadata": {},
   "outputs": [],
   "source": [
    "response = comprehend.start_topics_detection_job(\n",
    "    InputDataConfig={\n",
    "        'S3Uri': train_uri,\n",
    "        'InputFormat': 'ONE_DOC_PER_LINE'\n",
    "    },\n",
    "    OutputDataConfig={\n",
    "        'S3Uri': output_uri\n",
    "    },\n",
    "    DataAccessRoleArn=comprehend_role,\n",
    "    JobName='RuralPress_TopLeve_Topics',\n",
    "    NumberOfTopics=50\n",
    ")"
   ]
  },
  {
   "cell_type": "code",
   "execution_count": 16,
   "metadata": {},
   "outputs": [
    {
     "name": "stdout",
     "output_type": "stream",
     "text": [
      "3c504344320c90c2b54a8099595dabd5\n"
     ]
    }
   ],
   "source": [
    "job_id = response['JobId']\n",
    "print(job_id)"
   ]
  },
  {
   "cell_type": "code",
   "execution_count": 26,
   "metadata": {},
   "outputs": [],
   "source": [
    "job_id = \"3c504344320c90c2b54a8099595dabd5\""
   ]
  },
  {
   "cell_type": "code",
   "execution_count": 27,
   "metadata": {},
   "outputs": [],
   "source": [
    "describe_result = comprehend.describe_topics_detection_job(JobId=job_id)"
   ]
  },
  {
   "cell_type": "code",
   "execution_count": 28,
   "metadata": {},
   "outputs": [
    {
     "name": "stdout",
     "output_type": "stream",
     "text": [
      "Job Status: COMPLETED\n"
     ]
    }
   ],
   "source": [
    "job_status = describe_result['TopicsDetectionJobProperties']['JobStatus']\n",
    "print(f'Job Status: {job_status}')\n",
    "if job_status == 'FAILED':\n",
    "    print(f'Reason: {describe_result[\"TopicsDetectionJobProperties\"][\"Message\"]}')"
   ]
  },
  {
   "cell_type": "code",
   "execution_count": 29,
   "metadata": {},
   "outputs": [
    {
     "data": {
      "text/plain": [
       "'s3://funnybones/rural/topics/model/320389841409-TOPICS-3c504344320c90c2b54a8099595dabd5/output/output.tar.gz'"
      ]
     },
     "execution_count": 29,
     "metadata": {},
     "output_type": "execute_result"
    }
   ],
   "source": [
    "results_S3Url = comprehend.describe_topics_detection_job(JobId=job_id)['TopicsDetectionJobProperties']['OutputDataConfig']['S3Uri']\n",
    "\n",
    "results_S3Url"
   ]
  },
  {
   "cell_type": "code",
   "execution_count": 30,
   "metadata": {},
   "outputs": [
    {
     "data": {
      "text/plain": [
       "'rural/topics/model/320389841409-TOPICS-3c504344320c90c2b54a8099595dabd5/output/output.tar.gz'"
      ]
     },
     "execution_count": 30,
     "metadata": {},
     "output_type": "execute_result"
    }
   ],
   "source": [
    "s3_name = 's3://' + bucket_name + '/'\n",
    "results_aws_filename = results_S3Url.replace(s3_name, '')\n",
    "results_aws_filename"
   ]
  },
  {
   "cell_type": "code",
   "execution_count": 31,
   "metadata": {},
   "outputs": [],
   "source": [
    "# Local file name\n",
    "local_results_filename = 'results/topics.tar.gz'\n",
    "# Download the results\n",
    "s3 = boto3.client('s3')\n",
    "s3.download_file(bucket_name,\n",
    "                 results_aws_filename, \n",
    "                 local_results_filename)"
   ]
  },
  {
   "cell_type": "code",
   "execution_count": 32,
   "metadata": {},
   "outputs": [],
   "source": [
    "!tar xzf results/topics.tar.gz -C results"
   ]
  },
  {
   "cell_type": "code",
   "execution_count": 33,
   "metadata": {},
   "outputs": [
    {
     "name": "stdout",
     "output_type": "stream",
     "text": [
      "doc-topics.csv\ttopic-terms.csv  topics.tar.gz\n"
     ]
    }
   ],
   "source": [
    "!ls results"
   ]
  },
  {
   "cell_type": "code",
   "execution_count": 34,
   "metadata": {},
   "outputs": [],
   "source": [
    "doc_topics = pd.read_csv(\"results/doc-topics.csv\")"
   ]
  },
  {
   "cell_type": "code",
   "execution_count": 35,
   "metadata": {},
   "outputs": [
    {
     "data": {
      "text/html": [
       "<div>\n",
       "<style scoped>\n",
       "    .dataframe tbody tr th:only-of-type {\n",
       "        vertical-align: middle;\n",
       "    }\n",
       "\n",
       "    .dataframe tbody tr th {\n",
       "        vertical-align: top;\n",
       "    }\n",
       "\n",
       "    .dataframe thead th {\n",
       "        text-align: right;\n",
       "    }\n",
       "</style>\n",
       "<table border=\"1\" class=\"dataframe\">\n",
       "  <thead>\n",
       "    <tr style=\"text-align: right;\">\n",
       "      <th></th>\n",
       "      <th>docname</th>\n",
       "      <th>topic</th>\n",
       "      <th>proportion</th>\n",
       "    </tr>\n",
       "  </thead>\n",
       "  <tbody>\n",
       "    <tr>\n",
       "      <th>0</th>\n",
       "      <td>text_only.csv:30</td>\n",
       "      <td>5</td>\n",
       "      <td>0.562893</td>\n",
       "    </tr>\n",
       "    <tr>\n",
       "      <th>1</th>\n",
       "      <td>text_only.csv:30</td>\n",
       "      <td>0</td>\n",
       "      <td>0.339177</td>\n",
       "    </tr>\n",
       "    <tr>\n",
       "      <th>2</th>\n",
       "      <td>text_only.csv:30</td>\n",
       "      <td>12</td>\n",
       "      <td>0.052311</td>\n",
       "    </tr>\n",
       "    <tr>\n",
       "      <th>3</th>\n",
       "      <td>text_only.csv:30</td>\n",
       "      <td>20</td>\n",
       "      <td>0.045619</td>\n",
       "    </tr>\n",
       "    <tr>\n",
       "      <th>4</th>\n",
       "      <td>text_only.csv:65</td>\n",
       "      <td>1</td>\n",
       "      <td>0.408687</td>\n",
       "    </tr>\n",
       "    <tr>\n",
       "      <th>5</th>\n",
       "      <td>text_only.csv:65</td>\n",
       "      <td>20</td>\n",
       "      <td>0.341290</td>\n",
       "    </tr>\n",
       "    <tr>\n",
       "      <th>6</th>\n",
       "      <td>text_only.csv:65</td>\n",
       "      <td>3</td>\n",
       "      <td>0.212680</td>\n",
       "    </tr>\n",
       "    <tr>\n",
       "      <th>7</th>\n",
       "      <td>text_only.csv:65</td>\n",
       "      <td>14</td>\n",
       "      <td>0.021582</td>\n",
       "    </tr>\n",
       "    <tr>\n",
       "      <th>8</th>\n",
       "      <td>text_only.csv:65</td>\n",
       "      <td>30</td>\n",
       "      <td>0.010124</td>\n",
       "    </tr>\n",
       "    <tr>\n",
       "      <th>9</th>\n",
       "      <td>text_only.csv:65</td>\n",
       "      <td>6</td>\n",
       "      <td>0.005636</td>\n",
       "    </tr>\n",
       "    <tr>\n",
       "      <th>10</th>\n",
       "      <td>text_only.csv:100</td>\n",
       "      <td>23</td>\n",
       "      <td>0.230259</td>\n",
       "    </tr>\n",
       "    <tr>\n",
       "      <th>11</th>\n",
       "      <td>text_only.csv:100</td>\n",
       "      <td>1</td>\n",
       "      <td>0.181385</td>\n",
       "    </tr>\n",
       "    <tr>\n",
       "      <th>12</th>\n",
       "      <td>text_only.csv:100</td>\n",
       "      <td>12</td>\n",
       "      <td>0.119165</td>\n",
       "    </tr>\n",
       "    <tr>\n",
       "      <th>13</th>\n",
       "      <td>text_only.csv:100</td>\n",
       "      <td>16</td>\n",
       "      <td>0.116792</td>\n",
       "    </tr>\n",
       "    <tr>\n",
       "      <th>14</th>\n",
       "      <td>text_only.csv:100</td>\n",
       "      <td>25</td>\n",
       "      <td>0.104786</td>\n",
       "    </tr>\n",
       "    <tr>\n",
       "      <th>15</th>\n",
       "      <td>text_only.csv:100</td>\n",
       "      <td>3</td>\n",
       "      <td>0.103493</td>\n",
       "    </tr>\n",
       "    <tr>\n",
       "      <th>16</th>\n",
       "      <td>text_only.csv:100</td>\n",
       "      <td>20</td>\n",
       "      <td>0.088496</td>\n",
       "    </tr>\n",
       "    <tr>\n",
       "      <th>17</th>\n",
       "      <td>text_only.csv:100</td>\n",
       "      <td>29</td>\n",
       "      <td>0.039857</td>\n",
       "    </tr>\n",
       "    <tr>\n",
       "      <th>18</th>\n",
       "      <td>text_only.csv:100</td>\n",
       "      <td>8</td>\n",
       "      <td>0.015766</td>\n",
       "    </tr>\n",
       "    <tr>\n",
       "      <th>19</th>\n",
       "      <td>text_only.csv:135</td>\n",
       "      <td>21</td>\n",
       "      <td>0.273073</td>\n",
       "    </tr>\n",
       "  </tbody>\n",
       "</table>\n",
       "</div>"
      ],
      "text/plain": [
       "              docname  topic  proportion\n",
       "0    text_only.csv:30      5    0.562893\n",
       "1    text_only.csv:30      0    0.339177\n",
       "2    text_only.csv:30     12    0.052311\n",
       "3    text_only.csv:30     20    0.045619\n",
       "4    text_only.csv:65      1    0.408687\n",
       "5    text_only.csv:65     20    0.341290\n",
       "6    text_only.csv:65      3    0.212680\n",
       "7    text_only.csv:65     14    0.021582\n",
       "8    text_only.csv:65     30    0.010124\n",
       "9    text_only.csv:65      6    0.005636\n",
       "10  text_only.csv:100     23    0.230259\n",
       "11  text_only.csv:100      1    0.181385\n",
       "12  text_only.csv:100     12    0.119165\n",
       "13  text_only.csv:100     16    0.116792\n",
       "14  text_only.csv:100     25    0.104786\n",
       "15  text_only.csv:100      3    0.103493\n",
       "16  text_only.csv:100     20    0.088496\n",
       "17  text_only.csv:100     29    0.039857\n",
       "18  text_only.csv:100      8    0.015766\n",
       "19  text_only.csv:135     21    0.273073"
      ]
     },
     "execution_count": 35,
     "metadata": {},
     "output_type": "execute_result"
    }
   ],
   "source": [
    "doc_topics.head(20)"
   ]
  },
  {
   "cell_type": "code",
   "execution_count": 36,
   "metadata": {},
   "outputs": [
    {
     "data": {
      "text/plain": [
       "5784"
      ]
     },
     "execution_count": 36,
     "metadata": {},
     "output_type": "execute_result"
    }
   ],
   "source": [
    "len(doc_topics)"
   ]
  },
  {
   "cell_type": "markdown",
   "metadata": {},
   "source": [
    "You see that the topic modeller produces a set of probabilities for the learned topics. However, the number of records varies depending on the number of topics that match a document.\n",
    "\n",
    "We manipulate this data to get a list of the top topics of the document"
   ]
  },
  {
   "cell_type": "code",
   "execution_count": 37,
   "metadata": {},
   "outputs": [],
   "source": [
    "top_topics = doc_topics.groupby('docname').first().reset_index()"
   ]
  },
  {
   "cell_type": "code",
   "execution_count": 38,
   "metadata": {},
   "outputs": [
    {
     "data": {
      "text/plain": [
       "1009"
      ]
     },
     "execution_count": 38,
     "metadata": {},
     "output_type": "execute_result"
    }
   ],
   "source": [
    "len(top_topics)"
   ]
  },
  {
   "cell_type": "code",
   "execution_count": 39,
   "metadata": {},
   "outputs": [
    {
     "data": {
      "text/html": [
       "<div>\n",
       "<style scoped>\n",
       "    .dataframe tbody tr th:only-of-type {\n",
       "        vertical-align: middle;\n",
       "    }\n",
       "\n",
       "    .dataframe tbody tr th {\n",
       "        vertical-align: top;\n",
       "    }\n",
       "\n",
       "    .dataframe thead th {\n",
       "        text-align: right;\n",
       "    }\n",
       "</style>\n",
       "<table border=\"1\" class=\"dataframe\">\n",
       "  <thead>\n",
       "    <tr style=\"text-align: right;\">\n",
       "      <th></th>\n",
       "      <th>docname</th>\n",
       "      <th>topic</th>\n",
       "      <th>proportion</th>\n",
       "    </tr>\n",
       "  </thead>\n",
       "  <tbody>\n",
       "    <tr>\n",
       "      <th>0</th>\n",
       "      <td>text_only.csv:0</td>\n",
       "      <td>1</td>\n",
       "      <td>0.335041</td>\n",
       "    </tr>\n",
       "    <tr>\n",
       "      <th>1</th>\n",
       "      <td>text_only.csv:1</td>\n",
       "      <td>20</td>\n",
       "      <td>0.482878</td>\n",
       "    </tr>\n",
       "    <tr>\n",
       "      <th>2</th>\n",
       "      <td>text_only.csv:10</td>\n",
       "      <td>1</td>\n",
       "      <td>0.843629</td>\n",
       "    </tr>\n",
       "    <tr>\n",
       "      <th>3</th>\n",
       "      <td>text_only.csv:100</td>\n",
       "      <td>23</td>\n",
       "      <td>0.230259</td>\n",
       "    </tr>\n",
       "    <tr>\n",
       "      <th>4</th>\n",
       "      <td>text_only.csv:1000</td>\n",
       "      <td>13</td>\n",
       "      <td>0.338228</td>\n",
       "    </tr>\n",
       "  </tbody>\n",
       "</table>\n",
       "</div>"
      ],
      "text/plain": [
       "              docname  topic  proportion\n",
       "0     text_only.csv:0      1    0.335041\n",
       "1     text_only.csv:1     20    0.482878\n",
       "2    text_only.csv:10      1    0.843629\n",
       "3   text_only.csv:100     23    0.230259\n",
       "4  text_only.csv:1000     13    0.338228"
      ]
     },
     "execution_count": 39,
     "metadata": {},
     "output_type": "execute_result"
    }
   ],
   "source": [
    "top_topics.head()"
   ]
  },
  {
   "cell_type": "markdown",
   "metadata": {},
   "source": [
    "### Now extract the line from the original CSV from the docname field"
   ]
  },
  {
   "cell_type": "code",
   "execution_count": 40,
   "metadata": {},
   "outputs": [],
   "source": [
    "def get_line_no(docname):\n",
    "    return int(docname.split(':')[1])\n",
    "    \n",
    "top_topics['line'] =  top_topics['docname'].apply(lambda x : get_line_no(x))\n"
   ]
  },
  {
   "cell_type": "code",
   "execution_count": 41,
   "metadata": {},
   "outputs": [],
   "source": [
    "top_topics_sorted = top_topics.sort_values('line', axis=0, ascending=True, inplace=False)"
   ]
  },
  {
   "cell_type": "code",
   "execution_count": 42,
   "metadata": {},
   "outputs": [
    {
     "data": {
      "text/html": [
       "<div>\n",
       "<style scoped>\n",
       "    .dataframe tbody tr th:only-of-type {\n",
       "        vertical-align: middle;\n",
       "    }\n",
       "\n",
       "    .dataframe tbody tr th {\n",
       "        vertical-align: top;\n",
       "    }\n",
       "\n",
       "    .dataframe thead th {\n",
       "        text-align: right;\n",
       "    }\n",
       "</style>\n",
       "<table border=\"1\" class=\"dataframe\">\n",
       "  <thead>\n",
       "    <tr style=\"text-align: right;\">\n",
       "      <th></th>\n",
       "      <th>docname</th>\n",
       "      <th>topic</th>\n",
       "      <th>proportion</th>\n",
       "      <th>line</th>\n",
       "    </tr>\n",
       "  </thead>\n",
       "  <tbody>\n",
       "    <tr>\n",
       "      <th>0</th>\n",
       "      <td>text_only.csv:0</td>\n",
       "      <td>1</td>\n",
       "      <td>0.335041</td>\n",
       "      <td>0</td>\n",
       "    </tr>\n",
       "    <tr>\n",
       "      <th>1</th>\n",
       "      <td>text_only.csv:1</td>\n",
       "      <td>20</td>\n",
       "      <td>0.482878</td>\n",
       "      <td>1</td>\n",
       "    </tr>\n",
       "    <tr>\n",
       "      <th>121</th>\n",
       "      <td>text_only.csv:2</td>\n",
       "      <td>12</td>\n",
       "      <td>0.932177</td>\n",
       "      <td>2</td>\n",
       "    </tr>\n",
       "    <tr>\n",
       "      <th>232</th>\n",
       "      <td>text_only.csv:3</td>\n",
       "      <td>16</td>\n",
       "      <td>0.533105</td>\n",
       "      <td>3</td>\n",
       "    </tr>\n",
       "    <tr>\n",
       "      <th>343</th>\n",
       "      <td>text_only.csv:4</td>\n",
       "      <td>2</td>\n",
       "      <td>0.953504</td>\n",
       "      <td>4</td>\n",
       "    </tr>\n",
       "    <tr>\n",
       "      <th>...</th>\n",
       "      <td>...</td>\n",
       "      <td>...</td>\n",
       "      <td>...</td>\n",
       "      <td>...</td>\n",
       "    </tr>\n",
       "    <tr>\n",
       "      <th>8</th>\n",
       "      <td>text_only.csv:1004</td>\n",
       "      <td>16</td>\n",
       "      <td>0.602084</td>\n",
       "      <td>1004</td>\n",
       "    </tr>\n",
       "    <tr>\n",
       "      <th>9</th>\n",
       "      <td>text_only.csv:1005</td>\n",
       "      <td>16</td>\n",
       "      <td>0.320456</td>\n",
       "      <td>1005</td>\n",
       "    </tr>\n",
       "    <tr>\n",
       "      <th>10</th>\n",
       "      <td>text_only.csv:1006</td>\n",
       "      <td>16</td>\n",
       "      <td>0.301611</td>\n",
       "      <td>1006</td>\n",
       "    </tr>\n",
       "    <tr>\n",
       "      <th>11</th>\n",
       "      <td>text_only.csv:1007</td>\n",
       "      <td>15</td>\n",
       "      <td>0.753549</td>\n",
       "      <td>1007</td>\n",
       "    </tr>\n",
       "    <tr>\n",
       "      <th>12</th>\n",
       "      <td>text_only.csv:1008</td>\n",
       "      <td>4</td>\n",
       "      <td>0.918554</td>\n",
       "      <td>1008</td>\n",
       "    </tr>\n",
       "  </tbody>\n",
       "</table>\n",
       "<p>1009 rows × 4 columns</p>\n",
       "</div>"
      ],
      "text/plain": [
       "                docname  topic  proportion  line\n",
       "0       text_only.csv:0      1    0.335041     0\n",
       "1       text_only.csv:1     20    0.482878     1\n",
       "121     text_only.csv:2     12    0.932177     2\n",
       "232     text_only.csv:3     16    0.533105     3\n",
       "343     text_only.csv:4      2    0.953504     4\n",
       "..                  ...    ...         ...   ...\n",
       "8    text_only.csv:1004     16    0.602084  1004\n",
       "9    text_only.csv:1005     16    0.320456  1005\n",
       "10   text_only.csv:1006     16    0.301611  1006\n",
       "11   text_only.csv:1007     15    0.753549  1007\n",
       "12   text_only.csv:1008      4    0.918554  1008\n",
       "\n",
       "[1009 rows x 4 columns]"
      ]
     },
     "execution_count": 42,
     "metadata": {},
     "output_type": "execute_result"
    }
   ],
   "source": [
    "top_topics_sorted"
   ]
  },
  {
   "cell_type": "markdown",
   "metadata": {},
   "source": [
    "## Join with labelled data"
   ]
  },
  {
   "cell_type": "code",
   "execution_count": 45,
   "metadata": {},
   "outputs": [],
   "source": [
    "topic_set = result.copy()\n",
    "\n",
    "topic_set['topic'] = top_topics_sorted['topic']\n",
    "\n",
    "dataset = topic_set.loc[:,['topic','category','id']]"
   ]
  },
  {
   "cell_type": "code",
   "execution_count": 60,
   "metadata": {},
   "outputs": [],
   "source": [
    "evalset = dataset.loc[0:60].copy()"
   ]
  },
  {
   "cell_type": "code",
   "execution_count": 48,
   "metadata": {},
   "outputs": [
    {
     "data": {
      "text/plain": [
       "61"
      ]
     },
     "execution_count": 48,
     "metadata": {},
     "output_type": "execute_result"
    }
   ],
   "source": [
    "len(evalset)"
   ]
  },
  {
   "cell_type": "code",
   "execution_count": 49,
   "metadata": {},
   "outputs": [],
   "source": [
    "trainset = dataset.loc[61:]"
   ]
  },
  {
   "cell_type": "code",
   "execution_count": 51,
   "metadata": {},
   "outputs": [
    {
     "data": {
      "text/html": [
       "<div>\n",
       "<style scoped>\n",
       "    .dataframe tbody tr th:only-of-type {\n",
       "        vertical-align: middle;\n",
       "    }\n",
       "\n",
       "    .dataframe tbody tr th {\n",
       "        vertical-align: top;\n",
       "    }\n",
       "\n",
       "    .dataframe thead th {\n",
       "        text-align: right;\n",
       "    }\n",
       "</style>\n",
       "<table border=\"1\" class=\"dataframe\">\n",
       "  <thead>\n",
       "    <tr style=\"text-align: right;\">\n",
       "      <th></th>\n",
       "      <th>topic</th>\n",
       "      <th>category</th>\n",
       "      <th>id</th>\n",
       "    </tr>\n",
       "  </thead>\n",
       "  <tbody>\n",
       "    <tr>\n",
       "      <th>61</th>\n",
       "      <td>8</td>\n",
       "      <td>arts</td>\n",
       "      <td>7297974</td>\n",
       "    </tr>\n",
       "    <tr>\n",
       "      <th>62</th>\n",
       "      <td>4</td>\n",
       "      <td>realestate</td>\n",
       "      <td>7297970</td>\n",
       "    </tr>\n",
       "    <tr>\n",
       "      <th>63</th>\n",
       "      <td>1</td>\n",
       "      <td>politics</td>\n",
       "      <td>7297894</td>\n",
       "    </tr>\n",
       "    <tr>\n",
       "      <th>64</th>\n",
       "      <td>5</td>\n",
       "      <td>environment</td>\n",
       "      <td>7297854</td>\n",
       "    </tr>\n",
       "    <tr>\n",
       "      <th>65</th>\n",
       "      <td>17</td>\n",
       "      <td>health</td>\n",
       "      <td>7297801</td>\n",
       "    </tr>\n",
       "  </tbody>\n",
       "</table>\n",
       "</div>"
      ],
      "text/plain": [
       "    topic     category       id\n",
       "61      8         arts  7297974\n",
       "62      4   realestate  7297970\n",
       "63      1     politics  7297894\n",
       "64      5  environment  7297854\n",
       "65     17       health  7297801"
      ]
     },
     "execution_count": 51,
     "metadata": {},
     "output_type": "execute_result"
    }
   ],
   "source": [
    "trainset.head()"
   ]
  },
  {
   "cell_type": "code",
   "execution_count": 52,
   "metadata": {},
   "outputs": [],
   "source": [
    "topics = {}\n",
    "\n",
    "for index, row in trainset.iterrows():\n",
    "    if row['topic'] in topics:\n",
    "        topics[row['topic']].append(row['category'])\n",
    "    else:\n",
    "        topics[row['topic']] = [row['category']]\n",
    "        "
   ]
  },
  {
   "cell_type": "code",
   "execution_count": 54,
   "metadata": {},
   "outputs": [],
   "source": [
    "# Program to find most frequent \n",
    "# element in a list\n",
    "def most_frequent(List):\n",
    "    return max(set(List), key = List.count)"
   ]
  },
  {
   "cell_type": "code",
   "execution_count": 56,
   "metadata": {},
   "outputs": [],
   "source": [
    "topic_labels = {}\n",
    "\n",
    "for key in topics.keys():\n",
    "    topic_labels[key] = most_frequent(topics[key])"
   ]
  },
  {
   "cell_type": "code",
   "execution_count": 58,
   "metadata": {},
   "outputs": [
    {
     "data": {
      "text/html": [
       "<div>\n",
       "<style scoped>\n",
       "    .dataframe tbody tr th:only-of-type {\n",
       "        vertical-align: middle;\n",
       "    }\n",
       "\n",
       "    .dataframe tbody tr th {\n",
       "        vertical-align: top;\n",
       "    }\n",
       "\n",
       "    .dataframe thead th {\n",
       "        text-align: right;\n",
       "    }\n",
       "</style>\n",
       "<table border=\"1\" class=\"dataframe\">\n",
       "  <thead>\n",
       "    <tr style=\"text-align: right;\">\n",
       "      <th></th>\n",
       "      <th>topic</th>\n",
       "      <th>category</th>\n",
       "      <th>id</th>\n",
       "    </tr>\n",
       "  </thead>\n",
       "  <tbody>\n",
       "    <tr>\n",
       "      <th>0</th>\n",
       "      <td>1</td>\n",
       "      <td>human</td>\n",
       "      <td>7300876</td>\n",
       "    </tr>\n",
       "    <tr>\n",
       "      <th>1</th>\n",
       "      <td>20</td>\n",
       "      <td>sport</td>\n",
       "      <td>7300648</td>\n",
       "    </tr>\n",
       "    <tr>\n",
       "      <th>2</th>\n",
       "      <td>1</td>\n",
       "      <td>environment</td>\n",
       "      <td>7300577</td>\n",
       "    </tr>\n",
       "    <tr>\n",
       "      <th>3</th>\n",
       "      <td>23</td>\n",
       "      <td>arts</td>\n",
       "      <td>7300512</td>\n",
       "    </tr>\n",
       "    <tr>\n",
       "      <th>4</th>\n",
       "      <td>13</td>\n",
       "      <td>sport</td>\n",
       "      <td>7300496</td>\n",
       "    </tr>\n",
       "  </tbody>\n",
       "</table>\n",
       "</div>"
      ],
      "text/plain": [
       "   topic     category       id\n",
       "0      1        human  7300876\n",
       "1     20        sport  7300648\n",
       "2      1  environment  7300577\n",
       "3     23         arts  7300512\n",
       "4     13        sport  7300496"
      ]
     },
     "execution_count": 58,
     "metadata": {},
     "output_type": "execute_result"
    }
   ],
   "source": [
    "evalset.head()"
   ]
  },
  {
   "cell_type": "code",
   "execution_count": 61,
   "metadata": {},
   "outputs": [],
   "source": [
    "evalset['pred'] = evalset.topic.map(topic_labels)"
   ]
  },
  {
   "cell_type": "code",
   "execution_count": 62,
   "metadata": {},
   "outputs": [
    {
     "data": {
      "text/html": [
       "<div>\n",
       "<style scoped>\n",
       "    .dataframe tbody tr th:only-of-type {\n",
       "        vertical-align: middle;\n",
       "    }\n",
       "\n",
       "    .dataframe tbody tr th {\n",
       "        vertical-align: top;\n",
       "    }\n",
       "\n",
       "    .dataframe thead th {\n",
       "        text-align: right;\n",
       "    }\n",
       "</style>\n",
       "<table border=\"1\" class=\"dataframe\">\n",
       "  <thead>\n",
       "    <tr style=\"text-align: right;\">\n",
       "      <th></th>\n",
       "      <th>topic</th>\n",
       "      <th>category</th>\n",
       "      <th>id</th>\n",
       "      <th>pred</th>\n",
       "    </tr>\n",
       "  </thead>\n",
       "  <tbody>\n",
       "    <tr>\n",
       "      <th>0</th>\n",
       "      <td>1</td>\n",
       "      <td>human</td>\n",
       "      <td>7300876</td>\n",
       "      <td>politics</td>\n",
       "    </tr>\n",
       "    <tr>\n",
       "      <th>1</th>\n",
       "      <td>20</td>\n",
       "      <td>sport</td>\n",
       "      <td>7300648</td>\n",
       "      <td>sport</td>\n",
       "    </tr>\n",
       "    <tr>\n",
       "      <th>2</th>\n",
       "      <td>1</td>\n",
       "      <td>environment</td>\n",
       "      <td>7300577</td>\n",
       "      <td>politics</td>\n",
       "    </tr>\n",
       "    <tr>\n",
       "      <th>3</th>\n",
       "      <td>23</td>\n",
       "      <td>arts</td>\n",
       "      <td>7300512</td>\n",
       "      <td>sport</td>\n",
       "    </tr>\n",
       "    <tr>\n",
       "      <th>4</th>\n",
       "      <td>13</td>\n",
       "      <td>sport</td>\n",
       "      <td>7300496</td>\n",
       "      <td>arts</td>\n",
       "    </tr>\n",
       "  </tbody>\n",
       "</table>\n",
       "</div>"
      ],
      "text/plain": [
       "   topic     category       id      pred\n",
       "0      1        human  7300876  politics\n",
       "1     20        sport  7300648     sport\n",
       "2      1  environment  7300577  politics\n",
       "3     23         arts  7300512     sport\n",
       "4     13        sport  7300496      arts"
      ]
     },
     "execution_count": 62,
     "metadata": {},
     "output_type": "execute_result"
    }
   ],
   "source": [
    "evalset.head()"
   ]
  },
  {
   "cell_type": "code",
   "execution_count": 63,
   "metadata": {},
   "outputs": [],
   "source": [
    "evalset['correct'] = (evalset['category']==evalset['pred'])"
   ]
  },
  {
   "cell_type": "code",
   "execution_count": 64,
   "metadata": {},
   "outputs": [
    {
     "data": {
      "text/plain": [
       "0.18032786885245902"
      ]
     },
     "execution_count": 64,
     "metadata": {},
     "output_type": "execute_result"
    }
   ],
   "source": [
    "sum(evalset['correct'])/len(evalset)"
   ]
  },
  {
   "cell_type": "code",
   "execution_count": null,
   "metadata": {},
   "outputs": [],
   "source": []
  }
 ],
 "metadata": {
  "instance_type": "ml.t3.medium",
  "kernelspec": {
   "display_name": "Python 3 (Data Science)",
   "language": "python",
   "name": "python3__SAGEMAKER_INTERNAL__arn:aws:sagemaker:ap-southeast-2:452832661640:image/datascience-1.0"
  },
  "language_info": {
   "codemirror_mode": {
    "name": "ipython",
    "version": 3
   },
   "file_extension": ".py",
   "mimetype": "text/x-python",
   "name": "python",
   "nbconvert_exporter": "python",
   "pygments_lexer": "ipython3",
   "version": "3.7.10"
  }
 },
 "nbformat": 4,
 "nbformat_minor": 4
}
