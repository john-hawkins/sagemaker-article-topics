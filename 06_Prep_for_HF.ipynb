{
 "cells": [
  {
   "cell_type": "markdown",
   "metadata": {},
   "source": [
    "# Process data and prepare it for Hugging Face"
   ]
  },
  {
   "cell_type": "code",
   "execution_count": 1,
   "metadata": {},
   "outputs": [],
   "source": [
    "import pandas as pd\n",
    "import numpy as np\n",
    "import sagemaker\n",
    "import boto3\n",
    "\n",
    "boto_session = boto3.Session()\n",
    "region = boto_session.region_name\n",
    "comprehend = boto3.client('comprehend', region_name=region)\n",
    "sgmk_session = sagemaker.Session()\n",
    "sgmk_role = sagemaker.get_execution_role()"
   ]
  },
  {
   "cell_type": "code",
   "execution_count": 2,
   "metadata": {},
   "outputs": [],
   "source": [
    "ctstories = \"s3://funnybones/rural/topics/CTstories.csv\""
   ]
  },
  {
   "cell_type": "code",
   "execution_count": 3,
   "metadata": {},
   "outputs": [],
   "source": [
    "df1 = pd.read_csv(ctstories)"
   ]
  },
  {
   "cell_type": "code",
   "execution_count": 4,
   "metadata": {},
   "outputs": [
    {
     "data": {
      "text/plain": [
       "sport          176\n",
       "politics       124\n",
       "arts            98\n",
       "health          96\n",
       "lifestyle       90\n",
       "crime           73\n",
       "society         69\n",
       "ignore          46\n",
       "business        35\n",
       "realestate      30\n",
       "human           29\n",
       "accident        28\n",
       "environment     26\n",
       "education       23\n",
       "science         15\n",
       "labour          13\n",
       "military        12\n",
       "weather          5\n",
       "transport        4\n",
       "religion         1\n",
       "Name: category, dtype: int64"
      ]
     },
     "execution_count": 4,
     "metadata": {},
     "output_type": "execute_result"
    }
   ],
   "source": [
    "df1[\"category\"].value_counts()"
   ]
  },
  {
   "cell_type": "markdown",
   "metadata": {},
   "source": [
    "# Low observation categories\n",
    "\n",
    "Some of the original categories do not have sufficient observations for modelling: [religion, weather, military, labour, science, transport]\n",
    "\n",
    "For the purposese of the POC, I am collapsing these categories using the following logic:\n",
    "\n",
    "* religion -> society\n",
    "* weather -> lifestyle\n",
    "* military -> politics\n",
    "* labour -> politics\n",
    "* science -> education\n",
    "* transport -> politics\n",
    "\n",
    "In the process of labelling I identified 46 articles that could not be classified and should be ignored. These were predominantly Letters sections that contained mixed topic content.\n",
    "\n"
   ]
  },
  {
   "cell_type": "code",
   "execution_count": 5,
   "metadata": {},
   "outputs": [],
   "source": [
    "df1[\"category\"] = np.where( df1[\"category\"]==\"religion\", \"society\", df1[\"category\"])\n",
    "\n",
    "df1[\"category\"] = np.where( df1[\"category\"]==\"weather\", \"lifestyle\", df1[\"category\"])\n",
    "df1[\"category\"] = np.where( df1[\"category\"]==\"military\", \"politics\", df1[\"category\"])\n",
    "df1[\"category\"] = np.where( df1[\"category\"]==\"labour\", \"politics\", df1[\"category\"])\n",
    "df1[\"category\"] = np.where( df1[\"category\"]==\"transport\", \"politics\", df1[\"category\"])\n",
    "\n",
    "df1[\"category\"] = np.where( df1[\"category\"]==\"science\", \"education\", df1[\"category\"])"
   ]
  },
  {
   "cell_type": "code",
   "execution_count": 6,
   "metadata": {},
   "outputs": [],
   "source": [
    "df_trainer = df1[df1[\"category\"]!=\"ignore\"]"
   ]
  },
  {
   "cell_type": "code",
   "execution_count": 7,
   "metadata": {},
   "outputs": [
    {
     "data": {
      "text/plain": [
       "963"
      ]
     },
     "execution_count": 7,
     "metadata": {},
     "output_type": "execute_result"
    }
   ],
   "source": [
    "len(df_trainer)"
   ]
  },
  {
   "cell_type": "code",
   "execution_count": 8,
   "metadata": {},
   "outputs": [],
   "source": [
    "df_trainer = df_trainer[ df_trainer[\"category\"].notnull() ]"
   ]
  },
  {
   "cell_type": "code",
   "execution_count": 9,
   "metadata": {},
   "outputs": [
    {
     "data": {
      "text/plain": [
       "947"
      ]
     },
     "execution_count": 9,
     "metadata": {},
     "output_type": "execute_result"
    }
   ],
   "source": [
    "len(df_trainer)"
   ]
  },
  {
   "cell_type": "code",
   "execution_count": 10,
   "metadata": {},
   "outputs": [
    {
     "data": {
      "text/plain": [
       "sport          176\n",
       "politics       153\n",
       "arts            98\n",
       "health          96\n",
       "lifestyle       95\n",
       "crime           73\n",
       "society         70\n",
       "education       38\n",
       "business        35\n",
       "realestate      30\n",
       "human           29\n",
       "accident        28\n",
       "environment     26\n",
       "Name: category, dtype: int64"
      ]
     },
     "execution_count": 10,
     "metadata": {},
     "output_type": "execute_result"
    }
   ],
   "source": [
    "df_trainer[\"category\"].value_counts()"
   ]
  },
  {
   "cell_type": "code",
   "execution_count": 64,
   "metadata": {},
   "outputs": [],
   "source": [
    "labels = df_trainer[\"category\"].value_counts().reset_index()"
   ]
  },
  {
   "cell_type": "code",
   "execution_count": 65,
   "metadata": {},
   "outputs": [],
   "source": [
    "labels.columns = ['topic', 'label']"
   ]
  },
  {
   "cell_type": "code",
   "execution_count": 66,
   "metadata": {},
   "outputs": [],
   "source": [
    "labels['label']=labels.index"
   ]
  },
  {
   "cell_type": "code",
   "execution_count": 67,
   "metadata": {},
   "outputs": [],
   "source": [
    "labels.to_csv(\"data/topic_labels_HF.csv\", index=False, header=True)"
   ]
  },
  {
   "cell_type": "code",
   "execution_count": 68,
   "metadata": {},
   "outputs": [
    {
     "data": {
      "text/html": [
       "<div>\n",
       "<style scoped>\n",
       "    .dataframe tbody tr th:only-of-type {\n",
       "        vertical-align: middle;\n",
       "    }\n",
       "\n",
       "    .dataframe tbody tr th {\n",
       "        vertical-align: top;\n",
       "    }\n",
       "\n",
       "    .dataframe thead th {\n",
       "        text-align: right;\n",
       "    }\n",
       "</style>\n",
       "<table border=\"1\" class=\"dataframe\">\n",
       "  <thead>\n",
       "    <tr style=\"text-align: right;\">\n",
       "      <th></th>\n",
       "      <th>topic</th>\n",
       "      <th>label</th>\n",
       "    </tr>\n",
       "  </thead>\n",
       "  <tbody>\n",
       "    <tr>\n",
       "      <th>0</th>\n",
       "      <td>sport</td>\n",
       "      <td>0</td>\n",
       "    </tr>\n",
       "    <tr>\n",
       "      <th>1</th>\n",
       "      <td>politics</td>\n",
       "      <td>1</td>\n",
       "    </tr>\n",
       "    <tr>\n",
       "      <th>2</th>\n",
       "      <td>arts</td>\n",
       "      <td>2</td>\n",
       "    </tr>\n",
       "    <tr>\n",
       "      <th>3</th>\n",
       "      <td>health</td>\n",
       "      <td>3</td>\n",
       "    </tr>\n",
       "    <tr>\n",
       "      <th>4</th>\n",
       "      <td>lifestyle</td>\n",
       "      <td>4</td>\n",
       "    </tr>\n",
       "    <tr>\n",
       "      <th>5</th>\n",
       "      <td>crime</td>\n",
       "      <td>5</td>\n",
       "    </tr>\n",
       "    <tr>\n",
       "      <th>6</th>\n",
       "      <td>society</td>\n",
       "      <td>6</td>\n",
       "    </tr>\n",
       "    <tr>\n",
       "      <th>7</th>\n",
       "      <td>education</td>\n",
       "      <td>7</td>\n",
       "    </tr>\n",
       "    <tr>\n",
       "      <th>8</th>\n",
       "      <td>business</td>\n",
       "      <td>8</td>\n",
       "    </tr>\n",
       "    <tr>\n",
       "      <th>9</th>\n",
       "      <td>realestate</td>\n",
       "      <td>9</td>\n",
       "    </tr>\n",
       "    <tr>\n",
       "      <th>10</th>\n",
       "      <td>human</td>\n",
       "      <td>10</td>\n",
       "    </tr>\n",
       "    <tr>\n",
       "      <th>11</th>\n",
       "      <td>accident</td>\n",
       "      <td>11</td>\n",
       "    </tr>\n",
       "    <tr>\n",
       "      <th>12</th>\n",
       "      <td>environment</td>\n",
       "      <td>12</td>\n",
       "    </tr>\n",
       "  </tbody>\n",
       "</table>\n",
       "</div>"
      ],
      "text/plain": [
       "          topic  label\n",
       "0         sport      0\n",
       "1      politics      1\n",
       "2          arts      2\n",
       "3        health      3\n",
       "4     lifestyle      4\n",
       "5         crime      5\n",
       "6       society      6\n",
       "7     education      7\n",
       "8      business      8\n",
       "9    realestate      9\n",
       "10        human     10\n",
       "11     accident     11\n",
       "12  environment     12"
      ]
     },
     "execution_count": 68,
     "metadata": {},
     "output_type": "execute_result"
    }
   ],
   "source": [
    "labels"
   ]
  },
  {
   "cell_type": "code",
   "execution_count": 54,
   "metadata": {},
   "outputs": [
    {
     "data": {
      "text/html": [
       "<div>\n",
       "<style scoped>\n",
       "    .dataframe tbody tr th:only-of-type {\n",
       "        vertical-align: middle;\n",
       "    }\n",
       "\n",
       "    .dataframe tbody tr th {\n",
       "        vertical-align: top;\n",
       "    }\n",
       "\n",
       "    .dataframe thead th {\n",
       "        text-align: right;\n",
       "    }\n",
       "</style>\n",
       "<table border=\"1\" class=\"dataframe\">\n",
       "  <thead>\n",
       "    <tr style=\"text-align: right;\">\n",
       "      <th></th>\n",
       "      <th>id</th>\n",
       "      <th>category</th>\n",
       "      <th>summary</th>\n",
       "      <th>tags</th>\n",
       "      <th>text</th>\n",
       "      <th>title</th>\n",
       "    </tr>\n",
       "  </thead>\n",
       "  <tbody>\n",
       "    <tr>\n",
       "      <th>0</th>\n",
       "      <td>7300876</td>\n",
       "      <td>human</td>\n",
       "      <td>Multicultural Hub Canberra has supported the s...</td>\n",
       "      <td>['bf-label-advertising-feature', 'story-busine...</td>\n",
       "      <td>Model Akiima was born in the small village of...</td>\n",
       "      <td>Model of success - from refugee to the runways</td>\n",
       "    </tr>\n",
       "    <tr>\n",
       "      <th>1</th>\n",
       "      <td>7300648</td>\n",
       "      <td>sport</td>\n",
       "      <td>Justis Huni and Paul Gallen finally went head ...</td>\n",
       "      <td>['domestic-sports', 'top-sport']</td>\n",
       "      <td>This was poetic Justis at its finest. For all...</td>\n",
       "      <td>Poetic Justis: Huni demolishes Gallen</td>\n",
       "    </tr>\n",
       "    <tr>\n",
       "      <th>2</th>\n",
       "      <td>7300577</td>\n",
       "      <td>environment</td>\n",
       "      <td>Mr Bowen declared \"this is a solar panel, don'...</td>\n",
       "      <td>['news', 'subscriber-only', 'federal-politics'...</td>\n",
       "      <td>It has taken four years, but Labor's Chris Bo...</td>\n",
       "      <td>'This is a solar panel, don't be afraid': Labo...</td>\n",
       "    </tr>\n",
       "    <tr>\n",
       "      <th>3</th>\n",
       "      <td>7300512</td>\n",
       "      <td>arts</td>\n",
       "      <td>Now, most celebrities fly by private jet with ...</td>\n",
       "      <td>['books', 'signpost-review']</td>\n",
       "      <td>Remember when flying was glamorous and ocean ...</td>\n",
       "      <td>Glamorous travel of yesteryear</td>\n",
       "    </tr>\n",
       "    <tr>\n",
       "      <th>4</th>\n",
       "      <td>7300496</td>\n",
       "      <td>sport</td>\n",
       "      <td>Tahlia Tupaea will remain in Canberra next sea...</td>\n",
       "      <td>['capitals', 'basketball', 'signpost-subscribe...</td>\n",
       "      <td>The second youngest debutant in WNBL history ...</td>\n",
       "      <td>Tupaea locked in for her return to the capital</td>\n",
       "    </tr>\n",
       "  </tbody>\n",
       "</table>\n",
       "</div>"
      ],
      "text/plain": [
       "        id     category                                            summary  \\\n",
       "0  7300876        human  Multicultural Hub Canberra has supported the s...   \n",
       "1  7300648        sport  Justis Huni and Paul Gallen finally went head ...   \n",
       "2  7300577  environment  Mr Bowen declared \"this is a solar panel, don'...   \n",
       "3  7300512         arts  Now, most celebrities fly by private jet with ...   \n",
       "4  7300496        sport  Tahlia Tupaea will remain in Canberra next sea...   \n",
       "\n",
       "                                                tags  \\\n",
       "0  ['bf-label-advertising-feature', 'story-busine...   \n",
       "1                   ['domestic-sports', 'top-sport']   \n",
       "2  ['news', 'subscriber-only', 'federal-politics'...   \n",
       "3                       ['books', 'signpost-review']   \n",
       "4  ['capitals', 'basketball', 'signpost-subscribe...   \n",
       "\n",
       "                                                text  \\\n",
       "0   Model Akiima was born in the small village of...   \n",
       "1   This was poetic Justis at its finest. For all...   \n",
       "2   It has taken four years, but Labor's Chris Bo...   \n",
       "3   Remember when flying was glamorous and ocean ...   \n",
       "4   The second youngest debutant in WNBL history ...   \n",
       "\n",
       "                                               title  \n",
       "0     Model of success - from refugee to the runways  \n",
       "1              Poetic Justis: Huni demolishes Gallen  \n",
       "2  'This is a solar panel, don't be afraid': Labo...  \n",
       "3                     Glamorous travel of yesteryear  \n",
       "4     Tupaea locked in for her return to the capital  "
      ]
     },
     "execution_count": 54,
     "metadata": {},
     "output_type": "execute_result"
    }
   ],
   "source": [
    "df_trainer.head()"
   ]
  },
  {
   "cell_type": "code",
   "execution_count": 73,
   "metadata": {},
   "outputs": [
    {
     "data": {
      "text/html": [
       "<div>\n",
       "<style scoped>\n",
       "    .dataframe tbody tr th:only-of-type {\n",
       "        vertical-align: middle;\n",
       "    }\n",
       "\n",
       "    .dataframe tbody tr th {\n",
       "        vertical-align: top;\n",
       "    }\n",
       "\n",
       "    .dataframe thead th {\n",
       "        text-align: right;\n",
       "    }\n",
       "</style>\n",
       "<table border=\"1\" class=\"dataframe\">\n",
       "  <thead>\n",
       "    <tr style=\"text-align: right;\">\n",
       "      <th></th>\n",
       "      <th>id</th>\n",
       "      <th>category</th>\n",
       "      <th>summary</th>\n",
       "      <th>tags</th>\n",
       "      <th>text</th>\n",
       "      <th>title</th>\n",
       "      <th>label</th>\n",
       "    </tr>\n",
       "  </thead>\n",
       "  <tbody>\n",
       "    <tr>\n",
       "      <th>0</th>\n",
       "      <td>7300876</td>\n",
       "      <td>human</td>\n",
       "      <td>Multicultural Hub Canberra has supported the s...</td>\n",
       "      <td>['bf-label-advertising-feature', 'story-busine...</td>\n",
       "      <td>Model Akiima was born in the small village of...</td>\n",
       "      <td>Model of success - from refugee to the runways</td>\n",
       "      <td>10</td>\n",
       "    </tr>\n",
       "    <tr>\n",
       "      <th>1</th>\n",
       "      <td>7300648</td>\n",
       "      <td>sport</td>\n",
       "      <td>Justis Huni and Paul Gallen finally went head ...</td>\n",
       "      <td>['domestic-sports', 'top-sport']</td>\n",
       "      <td>This was poetic Justis at its finest. For all...</td>\n",
       "      <td>Poetic Justis: Huni demolishes Gallen</td>\n",
       "      <td>0</td>\n",
       "    </tr>\n",
       "    <tr>\n",
       "      <th>2</th>\n",
       "      <td>7300577</td>\n",
       "      <td>environment</td>\n",
       "      <td>Mr Bowen declared \"this is a solar panel, don'...</td>\n",
       "      <td>['news', 'subscriber-only', 'federal-politics'...</td>\n",
       "      <td>It has taken four years, but Labor's Chris Bo...</td>\n",
       "      <td>'This is a solar panel, don't be afraid': Labo...</td>\n",
       "      <td>12</td>\n",
       "    </tr>\n",
       "    <tr>\n",
       "      <th>3</th>\n",
       "      <td>7300512</td>\n",
       "      <td>arts</td>\n",
       "      <td>Now, most celebrities fly by private jet with ...</td>\n",
       "      <td>['books', 'signpost-review']</td>\n",
       "      <td>Remember when flying was glamorous and ocean ...</td>\n",
       "      <td>Glamorous travel of yesteryear</td>\n",
       "      <td>2</td>\n",
       "    </tr>\n",
       "    <tr>\n",
       "      <th>4</th>\n",
       "      <td>7300496</td>\n",
       "      <td>sport</td>\n",
       "      <td>Tahlia Tupaea will remain in Canberra next sea...</td>\n",
       "      <td>['capitals', 'basketball', 'signpost-subscribe...</td>\n",
       "      <td>The second youngest debutant in WNBL history ...</td>\n",
       "      <td>Tupaea locked in for her return to the capital</td>\n",
       "      <td>0</td>\n",
       "    </tr>\n",
       "  </tbody>\n",
       "</table>\n",
       "</div>"
      ],
      "text/plain": [
       "        id     category                                            summary  \\\n",
       "0  7300876        human  Multicultural Hub Canberra has supported the s...   \n",
       "1  7300648        sport  Justis Huni and Paul Gallen finally went head ...   \n",
       "2  7300577  environment  Mr Bowen declared \"this is a solar panel, don'...   \n",
       "3  7300512         arts  Now, most celebrities fly by private jet with ...   \n",
       "4  7300496        sport  Tahlia Tupaea will remain in Canberra next sea...   \n",
       "\n",
       "                                                tags  \\\n",
       "0  ['bf-label-advertising-feature', 'story-busine...   \n",
       "1                   ['domestic-sports', 'top-sport']   \n",
       "2  ['news', 'subscriber-only', 'federal-politics'...   \n",
       "3                       ['books', 'signpost-review']   \n",
       "4  ['capitals', 'basketball', 'signpost-subscribe...   \n",
       "\n",
       "                                                text  \\\n",
       "0   Model Akiima was born in the small village of...   \n",
       "1   This was poetic Justis at its finest. For all...   \n",
       "2   It has taken four years, but Labor's Chris Bo...   \n",
       "3   Remember when flying was glamorous and ocean ...   \n",
       "4   The second youngest debutant in WNBL history ...   \n",
       "\n",
       "                                               title  label  \n",
       "0     Model of success - from refugee to the runways     10  \n",
       "1              Poetic Justis: Huni demolishes Gallen      0  \n",
       "2  'This is a solar panel, don't be afraid': Labo...     12  \n",
       "3                     Glamorous travel of yesteryear      2  \n",
       "4     Tupaea locked in for her return to the capital      0  "
      ]
     },
     "execution_count": 73,
     "metadata": {},
     "output_type": "execute_result"
    }
   ],
   "source": [
    "mapping = dict(labels[['topic', 'label']].values)\n",
    "df_trainer['label'] = df_trainer.category.map(mapping)\n",
    "df_trainer.head()"
   ]
  },
  {
   "cell_type": "code",
   "execution_count": 98,
   "metadata": {},
   "outputs": [
    {
     "data": {
      "text/plain": [
       "{'sport': 0,\n",
       " 'politics': 1,\n",
       " 'arts': 2,\n",
       " 'health': 3,\n",
       " 'lifestyle': 4,\n",
       " 'crime': 5,\n",
       " 'society': 6,\n",
       " 'education': 7,\n",
       " 'business': 8,\n",
       " 'realestate': 9,\n",
       " 'human': 10,\n",
       " 'accident': 11,\n",
       " 'environment': 12}"
      ]
     },
     "execution_count": 98,
     "metadata": {},
     "output_type": "execute_result"
    }
   ],
   "source": [
    "mapping"
   ]
  },
  {
   "cell_type": "code",
   "execution_count": 74,
   "metadata": {},
   "outputs": [
    {
     "data": {
      "text/html": [
       "<div>\n",
       "<style scoped>\n",
       "    .dataframe tbody tr th:only-of-type {\n",
       "        vertical-align: middle;\n",
       "    }\n",
       "\n",
       "    .dataframe tbody tr th {\n",
       "        vertical-align: top;\n",
       "    }\n",
       "\n",
       "    .dataframe thead th {\n",
       "        text-align: right;\n",
       "    }\n",
       "</style>\n",
       "<table border=\"1\" class=\"dataframe\">\n",
       "  <thead>\n",
       "    <tr style=\"text-align: right;\">\n",
       "      <th></th>\n",
       "      <th>idx</th>\n",
       "      <th>label</th>\n",
       "      <th>sentence</th>\n",
       "    </tr>\n",
       "  </thead>\n",
       "  <tbody>\n",
       "    <tr>\n",
       "      <th>0</th>\n",
       "      <td>7300876</td>\n",
       "      <td>10</td>\n",
       "      <td>Model Akiima was born in the small village of...</td>\n",
       "    </tr>\n",
       "    <tr>\n",
       "      <th>1</th>\n",
       "      <td>7300648</td>\n",
       "      <td>0</td>\n",
       "      <td>This was poetic Justis at its finest. For all...</td>\n",
       "    </tr>\n",
       "    <tr>\n",
       "      <th>2</th>\n",
       "      <td>7300577</td>\n",
       "      <td>12</td>\n",
       "      <td>It has taken four years, but Labor's Chris Bo...</td>\n",
       "    </tr>\n",
       "    <tr>\n",
       "      <th>3</th>\n",
       "      <td>7300512</td>\n",
       "      <td>2</td>\n",
       "      <td>Remember when flying was glamorous and ocean ...</td>\n",
       "    </tr>\n",
       "    <tr>\n",
       "      <th>4</th>\n",
       "      <td>7300496</td>\n",
       "      <td>0</td>\n",
       "      <td>The second youngest debutant in WNBL history ...</td>\n",
       "    </tr>\n",
       "  </tbody>\n",
       "</table>\n",
       "</div>"
      ],
      "text/plain": [
       "       idx  label                                           sentence\n",
       "0  7300876     10   Model Akiima was born in the small village of...\n",
       "1  7300648      0   This was poetic Justis at its finest. For all...\n",
       "2  7300577     12   It has taken four years, but Labor's Chris Bo...\n",
       "3  7300512      2   Remember when flying was glamorous and ocean ...\n",
       "4  7300496      0   The second youngest debutant in WNBL history ..."
      ]
     },
     "execution_count": 74,
     "metadata": {},
     "output_type": "execute_result"
    }
   ],
   "source": [
    "trainset = df_trainer.loc[:,['id','label','text']]\n",
    "trainset.columns = ['idx', 'label', 'sentence']\n",
    "trainset.head()"
   ]
  },
  {
   "cell_type": "code",
   "execution_count": 75,
   "metadata": {},
   "outputs": [],
   "source": [
    "validation = trainset.loc[0:60]"
   ]
  },
  {
   "cell_type": "code",
   "execution_count": 76,
   "metadata": {},
   "outputs": [],
   "source": [
    "training = trainset.loc[61:]"
   ]
  },
  {
   "cell_type": "code",
   "execution_count": 77,
   "metadata": {},
   "outputs": [
    {
     "data": {
      "text/plain": [
       "947"
      ]
     },
     "execution_count": 77,
     "metadata": {},
     "output_type": "execute_result"
    }
   ],
   "source": [
    "len(validation) + len(training)"
   ]
  },
  {
   "cell_type": "code",
   "execution_count": 78,
   "metadata": {},
   "outputs": [
    {
     "data": {
      "text/plain": [
       "947"
      ]
     },
     "execution_count": 78,
     "metadata": {},
     "output_type": "execute_result"
    }
   ],
   "source": [
    "len(trainset)"
   ]
  },
  {
   "cell_type": "code",
   "execution_count": 79,
   "metadata": {},
   "outputs": [],
   "source": [
    "training.to_csv(\"data/training_for_HF.csv\", index=False, header=True)\n",
    "validation.to_csv(\"data/validation_for_HF.csv\", index=False, header=True)"
   ]
  },
  {
   "cell_type": "markdown",
   "metadata": {},
   "source": [
    "# Separate Test Data\n",
    "\n",
    "We grabbed the original data set (not from Canberra times) as an independent test set.\n"
   ]
  },
  {
   "cell_type": "code",
   "execution_count": 80,
   "metadata": {},
   "outputs": [],
   "source": [
    "stories = \"s3://funnybones/rural/topics/stories.csv\"\n",
    "df2 = pd.read_csv(stories)"
   ]
  },
  {
   "cell_type": "code",
   "execution_count": 81,
   "metadata": {},
   "outputs": [],
   "source": [
    "df2[\"category\"] = np.where( df2[\"category\"]==\"religion\", \"society\", df2[\"category\"])\n",
    "df2[\"category\"] = np.where( df2[\"category\"]==\"weather\", \"lifestyle\", df2[\"category\"])\n",
    "df2[\"category\"] = np.where( df2[\"category\"]==\"military\", \"politics\", df2[\"category\"])\n",
    "df2[\"category\"] = np.where( df2[\"category\"]==\"labour\", \"politics\", df2[\"category\"])\n",
    "df2[\"category\"] = np.where( df2[\"category\"]==\"transport\", \"politics\", df2[\"category\"])\n",
    "df2[\"category\"] = np.where( df2[\"category\"]==\"science\", \"education\", df2[\"category\"])"
   ]
  },
  {
   "cell_type": "code",
   "execution_count": 87,
   "metadata": {},
   "outputs": [],
   "source": [
    "test_data = df2[ df2[\"category\"].notnull() ].copy()\n"
   ]
  },
  {
   "cell_type": "code",
   "execution_count": 88,
   "metadata": {},
   "outputs": [
    {
     "data": {
      "text/plain": [
       "83"
      ]
     },
     "execution_count": 88,
     "metadata": {},
     "output_type": "execute_result"
    }
   ],
   "source": [
    "len(test_data)"
   ]
  },
  {
   "cell_type": "code",
   "execution_count": 89,
   "metadata": {},
   "outputs": [
    {
     "data": {
      "text/plain": [
       "sport          32\n",
       "health          9\n",
       "politics        9\n",
       "environment     9\n",
       "business        8\n",
       "crime           6\n",
       "lifestyle       3\n",
       "arts            2\n",
       "accident        2\n",
       "human           2\n",
       "society         1\n",
       "Name: category, dtype: int64"
      ]
     },
     "execution_count": 89,
     "metadata": {},
     "output_type": "execute_result"
    }
   ],
   "source": [
    "test_data['category'].value_counts()"
   ]
  },
  {
   "cell_type": "code",
   "execution_count": 94,
   "metadata": {},
   "outputs": [
    {
     "data": {
      "text/html": [
       "<div>\n",
       "<style scoped>\n",
       "    .dataframe tbody tr th:only-of-type {\n",
       "        vertical-align: middle;\n",
       "    }\n",
       "\n",
       "    .dataframe tbody tr th {\n",
       "        vertical-align: top;\n",
       "    }\n",
       "\n",
       "    .dataframe thead th {\n",
       "        text-align: right;\n",
       "    }\n",
       "</style>\n",
       "<table border=\"1\" class=\"dataframe\">\n",
       "  <thead>\n",
       "    <tr style=\"text-align: right;\">\n",
       "      <th></th>\n",
       "      <th>id</th>\n",
       "      <th>category</th>\n",
       "      <th>summary</th>\n",
       "      <th>tags</th>\n",
       "      <th>text</th>\n",
       "      <th>title</th>\n",
       "      <th>label</th>\n",
       "    </tr>\n",
       "  </thead>\n",
       "  <tbody>\n",
       "    <tr>\n",
       "      <th>0</th>\n",
       "      <td>7172663</td>\n",
       "      <td>business</td>\n",
       "      <td>Star of the South has reached an \"important mi...</td>\n",
       "      <td>['news']</td>\n",
       "      <td>Star of the South has reached an \"important m...</td>\n",
       "      <td>A SHINING STAR - Company reveals route from Ba...</td>\n",
       "      <td>8</td>\n",
       "    </tr>\n",
       "    <tr>\n",
       "      <th>1</th>\n",
       "      <td>7172704</td>\n",
       "      <td>politics</td>\n",
       "      <td>The Port of Sale precinct could be transformed...</td>\n",
       "      <td>['news', 'community']</td>\n",
       "      <td>THE Port of Sale precinct could be transforme...</td>\n",
       "      <td>Grand plan for port</td>\n",
       "      <td>1</td>\n",
       "    </tr>\n",
       "    <tr>\n",
       "      <th>2</th>\n",
       "      <td>7172716</td>\n",
       "      <td>health</td>\n",
       "      <td>Wellington Shire residents aged over 70 will b...</td>\n",
       "      <td>['news']</td>\n",
       "      <td>WELLINGTON Shire residents aged over 70 will ...</td>\n",
       "      <td>The over 70s cohort can soon book to get their...</td>\n",
       "      <td>3</td>\n",
       "    </tr>\n",
       "    <tr>\n",
       "      <th>3</th>\n",
       "      <td>7172725</td>\n",
       "      <td>lifestyle</td>\n",
       "      <td>Anyone thinking about holidaying at some of th...</td>\n",
       "      <td>['news', 'community']</td>\n",
       "      <td>ANYONE thinking about holidaying at some of t...</td>\n",
       "      <td>Local visitor boom is expected during looming ...</td>\n",
       "      <td>4</td>\n",
       "    </tr>\n",
       "    <tr>\n",
       "      <th>4</th>\n",
       "      <td>7172737</td>\n",
       "      <td>environment</td>\n",
       "      <td>Star of the South, Australia's proposed first ...</td>\n",
       "      <td>['news']</td>\n",
       "      <td>STAR of the South, Australia's proposed first...</td>\n",
       "      <td>Route is announced for offshore wind project</td>\n",
       "      <td>12</td>\n",
       "    </tr>\n",
       "  </tbody>\n",
       "</table>\n",
       "</div>"
      ],
      "text/plain": [
       "        id     category                                            summary  \\\n",
       "0  7172663     business  Star of the South has reached an \"important mi...   \n",
       "1  7172704     politics  The Port of Sale precinct could be transformed...   \n",
       "2  7172716       health  Wellington Shire residents aged over 70 will b...   \n",
       "3  7172725    lifestyle  Anyone thinking about holidaying at some of th...   \n",
       "4  7172737  environment  Star of the South, Australia's proposed first ...   \n",
       "\n",
       "                    tags                                               text  \\\n",
       "0               ['news']   Star of the South has reached an \"important m...   \n",
       "1  ['news', 'community']   THE Port of Sale precinct could be transforme...   \n",
       "2               ['news']   WELLINGTON Shire residents aged over 70 will ...   \n",
       "3  ['news', 'community']   ANYONE thinking about holidaying at some of t...   \n",
       "4               ['news']   STAR of the South, Australia's proposed first...   \n",
       "\n",
       "                                               title  label  \n",
       "0  A SHINING STAR - Company reveals route from Ba...      8  \n",
       "1                                Grand plan for port      1  \n",
       "2  The over 70s cohort can soon book to get their...      3  \n",
       "3  Local visitor boom is expected during looming ...      4  \n",
       "4       Route is announced for offshore wind project     12  "
      ]
     },
     "execution_count": 94,
     "metadata": {},
     "output_type": "execute_result"
    }
   ],
   "source": [
    "test_data.head()"
   ]
  },
  {
   "cell_type": "code",
   "execution_count": 91,
   "metadata": {},
   "outputs": [],
   "source": [
    "test_data['label'] = test_data.category.map(mapping)"
   ]
  },
  {
   "cell_type": "code",
   "execution_count": 92,
   "metadata": {},
   "outputs": [],
   "source": [
    "testset = test_data.loc[:,['id','label','text']]\n",
    "testset.columns = ['idx', 'label', 'sentence']"
   ]
  },
  {
   "cell_type": "code",
   "execution_count": 93,
   "metadata": {},
   "outputs": [
    {
     "data": {
      "text/html": [
       "<div>\n",
       "<style scoped>\n",
       "    .dataframe tbody tr th:only-of-type {\n",
       "        vertical-align: middle;\n",
       "    }\n",
       "\n",
       "    .dataframe tbody tr th {\n",
       "        vertical-align: top;\n",
       "    }\n",
       "\n",
       "    .dataframe thead th {\n",
       "        text-align: right;\n",
       "    }\n",
       "</style>\n",
       "<table border=\"1\" class=\"dataframe\">\n",
       "  <thead>\n",
       "    <tr style=\"text-align: right;\">\n",
       "      <th></th>\n",
       "      <th>idx</th>\n",
       "      <th>label</th>\n",
       "      <th>sentence</th>\n",
       "    </tr>\n",
       "  </thead>\n",
       "  <tbody>\n",
       "    <tr>\n",
       "      <th>0</th>\n",
       "      <td>7172663</td>\n",
       "      <td>8</td>\n",
       "      <td>Star of the South has reached an \"important m...</td>\n",
       "    </tr>\n",
       "    <tr>\n",
       "      <th>1</th>\n",
       "      <td>7172704</td>\n",
       "      <td>1</td>\n",
       "      <td>THE Port of Sale precinct could be transforme...</td>\n",
       "    </tr>\n",
       "    <tr>\n",
       "      <th>2</th>\n",
       "      <td>7172716</td>\n",
       "      <td>3</td>\n",
       "      <td>WELLINGTON Shire residents aged over 70 will ...</td>\n",
       "    </tr>\n",
       "    <tr>\n",
       "      <th>3</th>\n",
       "      <td>7172725</td>\n",
       "      <td>4</td>\n",
       "      <td>ANYONE thinking about holidaying at some of t...</td>\n",
       "    </tr>\n",
       "    <tr>\n",
       "      <th>4</th>\n",
       "      <td>7172737</td>\n",
       "      <td>12</td>\n",
       "      <td>STAR of the South, Australia's proposed first...</td>\n",
       "    </tr>\n",
       "  </tbody>\n",
       "</table>\n",
       "</div>"
      ],
      "text/plain": [
       "       idx  label                                           sentence\n",
       "0  7172663      8   Star of the South has reached an \"important m...\n",
       "1  7172704      1   THE Port of Sale precinct could be transforme...\n",
       "2  7172716      3   WELLINGTON Shire residents aged over 70 will ...\n",
       "3  7172725      4   ANYONE thinking about holidaying at some of t...\n",
       "4  7172737     12   STAR of the South, Australia's proposed first..."
      ]
     },
     "execution_count": 93,
     "metadata": {},
     "output_type": "execute_result"
    }
   ],
   "source": [
    "testset.head()"
   ]
  },
  {
   "cell_type": "code",
   "execution_count": 95,
   "metadata": {},
   "outputs": [],
   "source": [
    "testset.to_csv(\"data/test_for_HF.csv\", index=False, header=True)\n"
   ]
  },
  {
   "cell_type": "code",
   "execution_count": null,
   "metadata": {},
   "outputs": [],
   "source": []
  }
 ],
 "metadata": {
  "instance_type": "ml.t3.medium",
  "kernelspec": {
   "display_name": "Python 3 (Data Science)",
   "language": "python",
   "name": "python3__SAGEMAKER_INTERNAL__arn:aws:sagemaker:ap-southeast-2:452832661640:image/datascience-1.0"
  },
  "language_info": {
   "codemirror_mode": {
    "name": "ipython",
    "version": 3
   },
   "file_extension": ".py",
   "mimetype": "text/x-python",
   "name": "python",
   "nbconvert_exporter": "python",
   "pygments_lexer": "ipython3",
   "version": "3.7.10"
  }
 },
 "nbformat": 4,
 "nbformat_minor": 4
}
